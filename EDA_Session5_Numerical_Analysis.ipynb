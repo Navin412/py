{
  "nbformat": 4,
  "nbformat_minor": 0,
  "metadata": {
    "colab": {
      "provenance": [],
      "mount_file_id": "1D8gKpBe8lNlC9FtF74nq84w5Cp8NEYMk",
      "authorship_tag": "ABX9TyMoqXJmueIUmguTyhA/YhEV",
      "include_colab_link": true
    },
    "kernelspec": {
      "name": "python3",
      "display_name": "Python 3"
    },
    "language_info": {
      "name": "python"
    }
  },
  "cells": [
    {
      "cell_type": "markdown",
      "metadata": {
        "id": "view-in-github",
        "colab_type": "text"
      },
      "source": [
        "<a href=\"https://colab.research.google.com/github/Navin412/py/blob/master/EDA_Session5_Numerical_Analysis.ipynb\" target=\"_parent\"><img src=\"https://colab.research.google.com/assets/colab-badge.svg\" alt=\"Open In Colab\"/></a>"
      ]
    },
    {
      "cell_type": "code",
      "execution_count": 2,
      "metadata": {
        "id": "wl_8PWadVfDl"
      },
      "outputs": [],
      "source": [
        "import numpy as np\n",
        "import pandas as pd\n",
        "import matplotlib.pyplot as plt\n",
        "import seaborn as sns"
      ]
    },
    {
      "cell_type": "code",
      "source": [
        "visa_df=pd.read_csv(\"/content/drive/MyDrive/Colab Notebooks/Visadataset.csv\")\n",
        "visa_df"
      ],
      "metadata": {
        "colab": {
          "base_uri": "https://localhost:8080/",
          "height": 444
        },
        "id": "z6K_jFQLWIwY",
        "outputId": "d8bb53f3-ef30-4c2c-d489-245678ee4556"
      },
      "execution_count": 3,
      "outputs": [
        {
          "output_type": "execute_result",
          "data": {
            "text/plain": [
              "         case_id continent education_of_employee has_job_experience  \\\n",
              "0         EZYV01      Asia           High School                  N   \n",
              "1         EZYV02      Asia              Master's                  Y   \n",
              "2         EZYV03      Asia            Bachelor's                  N   \n",
              "3         EZYV04      Asia            Bachelor's                  N   \n",
              "4         EZYV05    Africa              Master's                  Y   \n",
              "...          ...       ...                   ...                ...   \n",
              "25475  EZYV25476      Asia            Bachelor's                  Y   \n",
              "25476  EZYV25477      Asia           High School                  Y   \n",
              "25477  EZYV25478      Asia              Master's                  Y   \n",
              "25478  EZYV25479      Asia              Master's                  Y   \n",
              "25479  EZYV25480      Asia            Bachelor's                  Y   \n",
              "\n",
              "      requires_job_training  no_of_employees  yr_of_estab  \\\n",
              "0                         N            14513         2007   \n",
              "1                         N             2412         2002   \n",
              "2                         Y            44444         2008   \n",
              "3                         N               98         1897   \n",
              "4                         N             1082         2005   \n",
              "...                     ...              ...          ...   \n",
              "25475                     Y             2601         2008   \n",
              "25476                     N             3274         2006   \n",
              "25477                     N             1121         1910   \n",
              "25478                     Y             1918         1887   \n",
              "25479                     N             3195         1960   \n",
              "\n",
              "      region_of_employment  prevailing_wage unit_of_wage full_time_position  \\\n",
              "0                     West         592.2029         Hour                  Y   \n",
              "1                Northeast       83425.6500         Year                  Y   \n",
              "2                     West      122996.8600         Year                  Y   \n",
              "3                     West       83434.0300         Year                  Y   \n",
              "4                    South      149907.3900         Year                  Y   \n",
              "...                    ...              ...          ...                ...   \n",
              "25475                South       77092.5700         Year                  Y   \n",
              "25476            Northeast      279174.7900         Year                  Y   \n",
              "25477                South      146298.8500         Year                  N   \n",
              "25478                 West       86154.7700         Year                  Y   \n",
              "25479              Midwest       70876.9100         Year                  Y   \n",
              "\n",
              "      case_status  \n",
              "0          Denied  \n",
              "1       Certified  \n",
              "2          Denied  \n",
              "3          Denied  \n",
              "4       Certified  \n",
              "...           ...  \n",
              "25475   Certified  \n",
              "25476   Certified  \n",
              "25477   Certified  \n",
              "25478   Certified  \n",
              "25479   Certified  \n",
              "\n",
              "[25480 rows x 12 columns]"
            ],
            "text/html": [
              "\n",
              "  <div id=\"df-3bea192c-9b8f-4b03-9e15-c36345a06212\" class=\"colab-df-container\">\n",
              "    <div>\n",
              "<style scoped>\n",
              "    .dataframe tbody tr th:only-of-type {\n",
              "        vertical-align: middle;\n",
              "    }\n",
              "\n",
              "    .dataframe tbody tr th {\n",
              "        vertical-align: top;\n",
              "    }\n",
              "\n",
              "    .dataframe thead th {\n",
              "        text-align: right;\n",
              "    }\n",
              "</style>\n",
              "<table border=\"1\" class=\"dataframe\">\n",
              "  <thead>\n",
              "    <tr style=\"text-align: right;\">\n",
              "      <th></th>\n",
              "      <th>case_id</th>\n",
              "      <th>continent</th>\n",
              "      <th>education_of_employee</th>\n",
              "      <th>has_job_experience</th>\n",
              "      <th>requires_job_training</th>\n",
              "      <th>no_of_employees</th>\n",
              "      <th>yr_of_estab</th>\n",
              "      <th>region_of_employment</th>\n",
              "      <th>prevailing_wage</th>\n",
              "      <th>unit_of_wage</th>\n",
              "      <th>full_time_position</th>\n",
              "      <th>case_status</th>\n",
              "    </tr>\n",
              "  </thead>\n",
              "  <tbody>\n",
              "    <tr>\n",
              "      <th>0</th>\n",
              "      <td>EZYV01</td>\n",
              "      <td>Asia</td>\n",
              "      <td>High School</td>\n",
              "      <td>N</td>\n",
              "      <td>N</td>\n",
              "      <td>14513</td>\n",
              "      <td>2007</td>\n",
              "      <td>West</td>\n",
              "      <td>592.2029</td>\n",
              "      <td>Hour</td>\n",
              "      <td>Y</td>\n",
              "      <td>Denied</td>\n",
              "    </tr>\n",
              "    <tr>\n",
              "      <th>1</th>\n",
              "      <td>EZYV02</td>\n",
              "      <td>Asia</td>\n",
              "      <td>Master's</td>\n",
              "      <td>Y</td>\n",
              "      <td>N</td>\n",
              "      <td>2412</td>\n",
              "      <td>2002</td>\n",
              "      <td>Northeast</td>\n",
              "      <td>83425.6500</td>\n",
              "      <td>Year</td>\n",
              "      <td>Y</td>\n",
              "      <td>Certified</td>\n",
              "    </tr>\n",
              "    <tr>\n",
              "      <th>2</th>\n",
              "      <td>EZYV03</td>\n",
              "      <td>Asia</td>\n",
              "      <td>Bachelor's</td>\n",
              "      <td>N</td>\n",
              "      <td>Y</td>\n",
              "      <td>44444</td>\n",
              "      <td>2008</td>\n",
              "      <td>West</td>\n",
              "      <td>122996.8600</td>\n",
              "      <td>Year</td>\n",
              "      <td>Y</td>\n",
              "      <td>Denied</td>\n",
              "    </tr>\n",
              "    <tr>\n",
              "      <th>3</th>\n",
              "      <td>EZYV04</td>\n",
              "      <td>Asia</td>\n",
              "      <td>Bachelor's</td>\n",
              "      <td>N</td>\n",
              "      <td>N</td>\n",
              "      <td>98</td>\n",
              "      <td>1897</td>\n",
              "      <td>West</td>\n",
              "      <td>83434.0300</td>\n",
              "      <td>Year</td>\n",
              "      <td>Y</td>\n",
              "      <td>Denied</td>\n",
              "    </tr>\n",
              "    <tr>\n",
              "      <th>4</th>\n",
              "      <td>EZYV05</td>\n",
              "      <td>Africa</td>\n",
              "      <td>Master's</td>\n",
              "      <td>Y</td>\n",
              "      <td>N</td>\n",
              "      <td>1082</td>\n",
              "      <td>2005</td>\n",
              "      <td>South</td>\n",
              "      <td>149907.3900</td>\n",
              "      <td>Year</td>\n",
              "      <td>Y</td>\n",
              "      <td>Certified</td>\n",
              "    </tr>\n",
              "    <tr>\n",
              "      <th>...</th>\n",
              "      <td>...</td>\n",
              "      <td>...</td>\n",
              "      <td>...</td>\n",
              "      <td>...</td>\n",
              "      <td>...</td>\n",
              "      <td>...</td>\n",
              "      <td>...</td>\n",
              "      <td>...</td>\n",
              "      <td>...</td>\n",
              "      <td>...</td>\n",
              "      <td>...</td>\n",
              "      <td>...</td>\n",
              "    </tr>\n",
              "    <tr>\n",
              "      <th>25475</th>\n",
              "      <td>EZYV25476</td>\n",
              "      <td>Asia</td>\n",
              "      <td>Bachelor's</td>\n",
              "      <td>Y</td>\n",
              "      <td>Y</td>\n",
              "      <td>2601</td>\n",
              "      <td>2008</td>\n",
              "      <td>South</td>\n",
              "      <td>77092.5700</td>\n",
              "      <td>Year</td>\n",
              "      <td>Y</td>\n",
              "      <td>Certified</td>\n",
              "    </tr>\n",
              "    <tr>\n",
              "      <th>25476</th>\n",
              "      <td>EZYV25477</td>\n",
              "      <td>Asia</td>\n",
              "      <td>High School</td>\n",
              "      <td>Y</td>\n",
              "      <td>N</td>\n",
              "      <td>3274</td>\n",
              "      <td>2006</td>\n",
              "      <td>Northeast</td>\n",
              "      <td>279174.7900</td>\n",
              "      <td>Year</td>\n",
              "      <td>Y</td>\n",
              "      <td>Certified</td>\n",
              "    </tr>\n",
              "    <tr>\n",
              "      <th>25477</th>\n",
              "      <td>EZYV25478</td>\n",
              "      <td>Asia</td>\n",
              "      <td>Master's</td>\n",
              "      <td>Y</td>\n",
              "      <td>N</td>\n",
              "      <td>1121</td>\n",
              "      <td>1910</td>\n",
              "      <td>South</td>\n",
              "      <td>146298.8500</td>\n",
              "      <td>Year</td>\n",
              "      <td>N</td>\n",
              "      <td>Certified</td>\n",
              "    </tr>\n",
              "    <tr>\n",
              "      <th>25478</th>\n",
              "      <td>EZYV25479</td>\n",
              "      <td>Asia</td>\n",
              "      <td>Master's</td>\n",
              "      <td>Y</td>\n",
              "      <td>Y</td>\n",
              "      <td>1918</td>\n",
              "      <td>1887</td>\n",
              "      <td>West</td>\n",
              "      <td>86154.7700</td>\n",
              "      <td>Year</td>\n",
              "      <td>Y</td>\n",
              "      <td>Certified</td>\n",
              "    </tr>\n",
              "    <tr>\n",
              "      <th>25479</th>\n",
              "      <td>EZYV25480</td>\n",
              "      <td>Asia</td>\n",
              "      <td>Bachelor's</td>\n",
              "      <td>Y</td>\n",
              "      <td>N</td>\n",
              "      <td>3195</td>\n",
              "      <td>1960</td>\n",
              "      <td>Midwest</td>\n",
              "      <td>70876.9100</td>\n",
              "      <td>Year</td>\n",
              "      <td>Y</td>\n",
              "      <td>Certified</td>\n",
              "    </tr>\n",
              "  </tbody>\n",
              "</table>\n",
              "<p>25480 rows × 12 columns</p>\n",
              "</div>\n",
              "    <div class=\"colab-df-buttons\">\n",
              "\n",
              "  <div class=\"colab-df-container\">\n",
              "    <button class=\"colab-df-convert\" onclick=\"convertToInteractive('df-3bea192c-9b8f-4b03-9e15-c36345a06212')\"\n",
              "            title=\"Convert this dataframe to an interactive table.\"\n",
              "            style=\"display:none;\">\n",
              "\n",
              "  <svg xmlns=\"http://www.w3.org/2000/svg\" height=\"24px\" viewBox=\"0 -960 960 960\">\n",
              "    <path d=\"M120-120v-720h720v720H120Zm60-500h600v-160H180v160Zm220 220h160v-160H400v160Zm0 220h160v-160H400v160ZM180-400h160v-160H180v160Zm440 0h160v-160H620v160ZM180-180h160v-160H180v160Zm440 0h160v-160H620v160Z\"/>\n",
              "  </svg>\n",
              "    </button>\n",
              "\n",
              "  <style>\n",
              "    .colab-df-container {\n",
              "      display:flex;\n",
              "      gap: 12px;\n",
              "    }\n",
              "\n",
              "    .colab-df-convert {\n",
              "      background-color: #E8F0FE;\n",
              "      border: none;\n",
              "      border-radius: 50%;\n",
              "      cursor: pointer;\n",
              "      display: none;\n",
              "      fill: #1967D2;\n",
              "      height: 32px;\n",
              "      padding: 0 0 0 0;\n",
              "      width: 32px;\n",
              "    }\n",
              "\n",
              "    .colab-df-convert:hover {\n",
              "      background-color: #E2EBFA;\n",
              "      box-shadow: 0px 1px 2px rgba(60, 64, 67, 0.3), 0px 1px 3px 1px rgba(60, 64, 67, 0.15);\n",
              "      fill: #174EA6;\n",
              "    }\n",
              "\n",
              "    .colab-df-buttons div {\n",
              "      margin-bottom: 4px;\n",
              "    }\n",
              "\n",
              "    [theme=dark] .colab-df-convert {\n",
              "      background-color: #3B4455;\n",
              "      fill: #D2E3FC;\n",
              "    }\n",
              "\n",
              "    [theme=dark] .colab-df-convert:hover {\n",
              "      background-color: #434B5C;\n",
              "      box-shadow: 0px 1px 3px 1px rgba(0, 0, 0, 0.15);\n",
              "      filter: drop-shadow(0px 1px 2px rgba(0, 0, 0, 0.3));\n",
              "      fill: #FFFFFF;\n",
              "    }\n",
              "  </style>\n",
              "\n",
              "    <script>\n",
              "      const buttonEl =\n",
              "        document.querySelector('#df-3bea192c-9b8f-4b03-9e15-c36345a06212 button.colab-df-convert');\n",
              "      buttonEl.style.display =\n",
              "        google.colab.kernel.accessAllowed ? 'block' : 'none';\n",
              "\n",
              "      async function convertToInteractive(key) {\n",
              "        const element = document.querySelector('#df-3bea192c-9b8f-4b03-9e15-c36345a06212');\n",
              "        const dataTable =\n",
              "          await google.colab.kernel.invokeFunction('convertToInteractive',\n",
              "                                                    [key], {});\n",
              "        if (!dataTable) return;\n",
              "\n",
              "        const docLinkHtml = 'Like what you see? Visit the ' +\n",
              "          '<a target=\"_blank\" href=https://colab.research.google.com/notebooks/data_table.ipynb>data table notebook</a>'\n",
              "          + ' to learn more about interactive tables.';\n",
              "        element.innerHTML = '';\n",
              "        dataTable['output_type'] = 'display_data';\n",
              "        await google.colab.output.renderOutput(dataTable, element);\n",
              "        const docLink = document.createElement('div');\n",
              "        docLink.innerHTML = docLinkHtml;\n",
              "        element.appendChild(docLink);\n",
              "      }\n",
              "    </script>\n",
              "  </div>\n",
              "\n",
              "\n",
              "<div id=\"df-d85238f5-3e18-488c-9e8a-bc288aee3a42\">\n",
              "  <button class=\"colab-df-quickchart\" onclick=\"quickchart('df-d85238f5-3e18-488c-9e8a-bc288aee3a42')\"\n",
              "            title=\"Suggest charts\"\n",
              "            style=\"display:none;\">\n",
              "\n",
              "<svg xmlns=\"http://www.w3.org/2000/svg\" height=\"24px\"viewBox=\"0 0 24 24\"\n",
              "     width=\"24px\">\n",
              "    <g>\n",
              "        <path d=\"M19 3H5c-1.1 0-2 .9-2 2v14c0 1.1.9 2 2 2h14c1.1 0 2-.9 2-2V5c0-1.1-.9-2-2-2zM9 17H7v-7h2v7zm4 0h-2V7h2v10zm4 0h-2v-4h2v4z\"/>\n",
              "    </g>\n",
              "</svg>\n",
              "  </button>\n",
              "\n",
              "<style>\n",
              "  .colab-df-quickchart {\n",
              "      --bg-color: #E8F0FE;\n",
              "      --fill-color: #1967D2;\n",
              "      --hover-bg-color: #E2EBFA;\n",
              "      --hover-fill-color: #174EA6;\n",
              "      --disabled-fill-color: #AAA;\n",
              "      --disabled-bg-color: #DDD;\n",
              "  }\n",
              "\n",
              "  [theme=dark] .colab-df-quickchart {\n",
              "      --bg-color: #3B4455;\n",
              "      --fill-color: #D2E3FC;\n",
              "      --hover-bg-color: #434B5C;\n",
              "      --hover-fill-color: #FFFFFF;\n",
              "      --disabled-bg-color: #3B4455;\n",
              "      --disabled-fill-color: #666;\n",
              "  }\n",
              "\n",
              "  .colab-df-quickchart {\n",
              "    background-color: var(--bg-color);\n",
              "    border: none;\n",
              "    border-radius: 50%;\n",
              "    cursor: pointer;\n",
              "    display: none;\n",
              "    fill: var(--fill-color);\n",
              "    height: 32px;\n",
              "    padding: 0;\n",
              "    width: 32px;\n",
              "  }\n",
              "\n",
              "  .colab-df-quickchart:hover {\n",
              "    background-color: var(--hover-bg-color);\n",
              "    box-shadow: 0 1px 2px rgba(60, 64, 67, 0.3), 0 1px 3px 1px rgba(60, 64, 67, 0.15);\n",
              "    fill: var(--button-hover-fill-color);\n",
              "  }\n",
              "\n",
              "  .colab-df-quickchart-complete:disabled,\n",
              "  .colab-df-quickchart-complete:disabled:hover {\n",
              "    background-color: var(--disabled-bg-color);\n",
              "    fill: var(--disabled-fill-color);\n",
              "    box-shadow: none;\n",
              "  }\n",
              "\n",
              "  .colab-df-spinner {\n",
              "    border: 2px solid var(--fill-color);\n",
              "    border-color: transparent;\n",
              "    border-bottom-color: var(--fill-color);\n",
              "    animation:\n",
              "      spin 1s steps(1) infinite;\n",
              "  }\n",
              "\n",
              "  @keyframes spin {\n",
              "    0% {\n",
              "      border-color: transparent;\n",
              "      border-bottom-color: var(--fill-color);\n",
              "      border-left-color: var(--fill-color);\n",
              "    }\n",
              "    20% {\n",
              "      border-color: transparent;\n",
              "      border-left-color: var(--fill-color);\n",
              "      border-top-color: var(--fill-color);\n",
              "    }\n",
              "    30% {\n",
              "      border-color: transparent;\n",
              "      border-left-color: var(--fill-color);\n",
              "      border-top-color: var(--fill-color);\n",
              "      border-right-color: var(--fill-color);\n",
              "    }\n",
              "    40% {\n",
              "      border-color: transparent;\n",
              "      border-right-color: var(--fill-color);\n",
              "      border-top-color: var(--fill-color);\n",
              "    }\n",
              "    60% {\n",
              "      border-color: transparent;\n",
              "      border-right-color: var(--fill-color);\n",
              "    }\n",
              "    80% {\n",
              "      border-color: transparent;\n",
              "      border-right-color: var(--fill-color);\n",
              "      border-bottom-color: var(--fill-color);\n",
              "    }\n",
              "    90% {\n",
              "      border-color: transparent;\n",
              "      border-bottom-color: var(--fill-color);\n",
              "    }\n",
              "  }\n",
              "</style>\n",
              "\n",
              "  <script>\n",
              "    async function quickchart(key) {\n",
              "      const quickchartButtonEl =\n",
              "        document.querySelector('#' + key + ' button');\n",
              "      quickchartButtonEl.disabled = true;  // To prevent multiple clicks.\n",
              "      quickchartButtonEl.classList.add('colab-df-spinner');\n",
              "      try {\n",
              "        const charts = await google.colab.kernel.invokeFunction(\n",
              "            'suggestCharts', [key], {});\n",
              "      } catch (error) {\n",
              "        console.error('Error during call to suggestCharts:', error);\n",
              "      }\n",
              "      quickchartButtonEl.classList.remove('colab-df-spinner');\n",
              "      quickchartButtonEl.classList.add('colab-df-quickchart-complete');\n",
              "    }\n",
              "    (() => {\n",
              "      let quickchartButtonEl =\n",
              "        document.querySelector('#df-d85238f5-3e18-488c-9e8a-bc288aee3a42 button');\n",
              "      quickchartButtonEl.style.display =\n",
              "        google.colab.kernel.accessAllowed ? 'block' : 'none';\n",
              "    })();\n",
              "  </script>\n",
              "</div>\n",
              "\n",
              "  <div id=\"id_c6efe991-6598-4fa3-b6b4-66aadc5fba31\">\n",
              "    <style>\n",
              "      .colab-df-generate {\n",
              "        background-color: #E8F0FE;\n",
              "        border: none;\n",
              "        border-radius: 50%;\n",
              "        cursor: pointer;\n",
              "        display: none;\n",
              "        fill: #1967D2;\n",
              "        height: 32px;\n",
              "        padding: 0 0 0 0;\n",
              "        width: 32px;\n",
              "      }\n",
              "\n",
              "      .colab-df-generate:hover {\n",
              "        background-color: #E2EBFA;\n",
              "        box-shadow: 0px 1px 2px rgba(60, 64, 67, 0.3), 0px 1px 3px 1px rgba(60, 64, 67, 0.15);\n",
              "        fill: #174EA6;\n",
              "      }\n",
              "\n",
              "      [theme=dark] .colab-df-generate {\n",
              "        background-color: #3B4455;\n",
              "        fill: #D2E3FC;\n",
              "      }\n",
              "\n",
              "      [theme=dark] .colab-df-generate:hover {\n",
              "        background-color: #434B5C;\n",
              "        box-shadow: 0px 1px 3px 1px rgba(0, 0, 0, 0.15);\n",
              "        filter: drop-shadow(0px 1px 2px rgba(0, 0, 0, 0.3));\n",
              "        fill: #FFFFFF;\n",
              "      }\n",
              "    </style>\n",
              "    <button class=\"colab-df-generate\" onclick=\"generateWithVariable('visa_df')\"\n",
              "            title=\"Generate code using this dataframe.\"\n",
              "            style=\"display:none;\">\n",
              "\n",
              "  <svg xmlns=\"http://www.w3.org/2000/svg\" height=\"24px\"viewBox=\"0 0 24 24\"\n",
              "       width=\"24px\">\n",
              "    <path d=\"M7,19H8.4L18.45,9,17,7.55,7,17.6ZM5,21V16.75L18.45,3.32a2,2,0,0,1,2.83,0l1.4,1.43a1.91,1.91,0,0,1,.58,1.4,1.91,1.91,0,0,1-.58,1.4L9.25,21ZM18.45,9,17,7.55Zm-12,3A5.31,5.31,0,0,0,4.9,8.1,5.31,5.31,0,0,0,1,6.5,5.31,5.31,0,0,0,4.9,4.9,5.31,5.31,0,0,0,6.5,1,5.31,5.31,0,0,0,8.1,4.9,5.31,5.31,0,0,0,12,6.5,5.46,5.46,0,0,0,6.5,12Z\"/>\n",
              "  </svg>\n",
              "    </button>\n",
              "    <script>\n",
              "      (() => {\n",
              "      const buttonEl =\n",
              "        document.querySelector('#id_c6efe991-6598-4fa3-b6b4-66aadc5fba31 button.colab-df-generate');\n",
              "      buttonEl.style.display =\n",
              "        google.colab.kernel.accessAllowed ? 'block' : 'none';\n",
              "\n",
              "      buttonEl.onclick = () => {\n",
              "        google.colab.notebook.generateWithVariable('visa_df');\n",
              "      }\n",
              "      })();\n",
              "    </script>\n",
              "  </div>\n",
              "\n",
              "    </div>\n",
              "  </div>\n"
            ],
            "application/vnd.google.colaboratory.intrinsic+json": {
              "type": "dataframe",
              "variable_name": "visa_df",
              "summary": "{\n  \"name\": \"visa_df\",\n  \"rows\": 25480,\n  \"fields\": [\n    {\n      \"column\": \"case_id\",\n      \"properties\": {\n        \"dtype\": \"string\",\n        \"num_unique_values\": 25480,\n        \"samples\": [\n          \"EZYV16746\",\n          \"EZYV9527\",\n          \"EZYV8359\"\n        ],\n        \"semantic_type\": \"\",\n        \"description\": \"\"\n      }\n    },\n    {\n      \"column\": \"continent\",\n      \"properties\": {\n        \"dtype\": \"category\",\n        \"num_unique_values\": 6,\n        \"samples\": [\n          \"Asia\",\n          \"Africa\",\n          \"Oceania\"\n        ],\n        \"semantic_type\": \"\",\n        \"description\": \"\"\n      }\n    },\n    {\n      \"column\": \"education_of_employee\",\n      \"properties\": {\n        \"dtype\": \"category\",\n        \"num_unique_values\": 4,\n        \"samples\": [\n          \"Master's\",\n          \"Doctorate\",\n          \"High School\"\n        ],\n        \"semantic_type\": \"\",\n        \"description\": \"\"\n      }\n    },\n    {\n      \"column\": \"has_job_experience\",\n      \"properties\": {\n        \"dtype\": \"category\",\n        \"num_unique_values\": 2,\n        \"samples\": [\n          \"Y\",\n          \"N\"\n        ],\n        \"semantic_type\": \"\",\n        \"description\": \"\"\n      }\n    },\n    {\n      \"column\": \"requires_job_training\",\n      \"properties\": {\n        \"dtype\": \"category\",\n        \"num_unique_values\": 2,\n        \"samples\": [\n          \"Y\",\n          \"N\"\n        ],\n        \"semantic_type\": \"\",\n        \"description\": \"\"\n      }\n    },\n    {\n      \"column\": \"no_of_employees\",\n      \"properties\": {\n        \"dtype\": \"number\",\n        \"std\": 22877,\n        \"min\": -26,\n        \"max\": 602069,\n        \"num_unique_values\": 7105,\n        \"samples\": [\n          146713,\n          9342\n        ],\n        \"semantic_type\": \"\",\n        \"description\": \"\"\n      }\n    },\n    {\n      \"column\": \"yr_of_estab\",\n      \"properties\": {\n        \"dtype\": \"number\",\n        \"std\": 42,\n        \"min\": 1800,\n        \"max\": 2016,\n        \"num_unique_values\": 199,\n        \"samples\": [\n          1843,\n          1972\n        ],\n        \"semantic_type\": \"\",\n        \"description\": \"\"\n      }\n    },\n    {\n      \"column\": \"region_of_employment\",\n      \"properties\": {\n        \"dtype\": \"category\",\n        \"num_unique_values\": 5,\n        \"samples\": [\n          \"Northeast\",\n          \"Island\"\n        ],\n        \"semantic_type\": \"\",\n        \"description\": \"\"\n      }\n    },\n    {\n      \"column\": \"prevailing_wage\",\n      \"properties\": {\n        \"dtype\": \"number\",\n        \"std\": 52815.94232687371,\n        \"min\": 2.1367,\n        \"max\": 319210.27,\n        \"num_unique_values\": 25454,\n        \"samples\": [\n          44218.42,\n          60458.9\n        ],\n        \"semantic_type\": \"\",\n        \"description\": \"\"\n      }\n    },\n    {\n      \"column\": \"unit_of_wage\",\n      \"properties\": {\n        \"dtype\": \"category\",\n        \"num_unique_values\": 4,\n        \"samples\": [\n          \"Year\",\n          \"Month\"\n        ],\n        \"semantic_type\": \"\",\n        \"description\": \"\"\n      }\n    },\n    {\n      \"column\": \"full_time_position\",\n      \"properties\": {\n        \"dtype\": \"category\",\n        \"num_unique_values\": 2,\n        \"samples\": [\n          \"N\",\n          \"Y\"\n        ],\n        \"semantic_type\": \"\",\n        \"description\": \"\"\n      }\n    },\n    {\n      \"column\": \"case_status\",\n      \"properties\": {\n        \"dtype\": \"category\",\n        \"num_unique_values\": 2,\n        \"samples\": [\n          \"Certified\",\n          \"Denied\"\n        ],\n        \"semantic_type\": \"\",\n        \"description\": \"\"\n      }\n    }\n  ]\n}"
            }
          },
          "metadata": {},
          "execution_count": 3
        }
      ]
    },
    {
      "cell_type": "code",
      "source": [
        "visa_df.select_dtypes(exclude='object')"
      ],
      "metadata": {
        "colab": {
          "base_uri": "https://localhost:8080/",
          "height": 444
        },
        "id": "onr5F_OcWbc5",
        "outputId": "326fb88c-ec75-4b74-f212-c416fd01db3f"
      },
      "execution_count": 4,
      "outputs": [
        {
          "output_type": "execute_result",
          "data": {
            "text/plain": [
              "       no_of_employees  yr_of_estab  prevailing_wage\n",
              "0                14513         2007         592.2029\n",
              "1                 2412         2002       83425.6500\n",
              "2                44444         2008      122996.8600\n",
              "3                   98         1897       83434.0300\n",
              "4                 1082         2005      149907.3900\n",
              "...                ...          ...              ...\n",
              "25475             2601         2008       77092.5700\n",
              "25476             3274         2006      279174.7900\n",
              "25477             1121         1910      146298.8500\n",
              "25478             1918         1887       86154.7700\n",
              "25479             3195         1960       70876.9100\n",
              "\n",
              "[25480 rows x 3 columns]"
            ],
            "text/html": [
              "\n",
              "  <div id=\"df-91a69a3e-2b98-4bbf-9dc1-ae683aef5efc\" class=\"colab-df-container\">\n",
              "    <div>\n",
              "<style scoped>\n",
              "    .dataframe tbody tr th:only-of-type {\n",
              "        vertical-align: middle;\n",
              "    }\n",
              "\n",
              "    .dataframe tbody tr th {\n",
              "        vertical-align: top;\n",
              "    }\n",
              "\n",
              "    .dataframe thead th {\n",
              "        text-align: right;\n",
              "    }\n",
              "</style>\n",
              "<table border=\"1\" class=\"dataframe\">\n",
              "  <thead>\n",
              "    <tr style=\"text-align: right;\">\n",
              "      <th></th>\n",
              "      <th>no_of_employees</th>\n",
              "      <th>yr_of_estab</th>\n",
              "      <th>prevailing_wage</th>\n",
              "    </tr>\n",
              "  </thead>\n",
              "  <tbody>\n",
              "    <tr>\n",
              "      <th>0</th>\n",
              "      <td>14513</td>\n",
              "      <td>2007</td>\n",
              "      <td>592.2029</td>\n",
              "    </tr>\n",
              "    <tr>\n",
              "      <th>1</th>\n",
              "      <td>2412</td>\n",
              "      <td>2002</td>\n",
              "      <td>83425.6500</td>\n",
              "    </tr>\n",
              "    <tr>\n",
              "      <th>2</th>\n",
              "      <td>44444</td>\n",
              "      <td>2008</td>\n",
              "      <td>122996.8600</td>\n",
              "    </tr>\n",
              "    <tr>\n",
              "      <th>3</th>\n",
              "      <td>98</td>\n",
              "      <td>1897</td>\n",
              "      <td>83434.0300</td>\n",
              "    </tr>\n",
              "    <tr>\n",
              "      <th>4</th>\n",
              "      <td>1082</td>\n",
              "      <td>2005</td>\n",
              "      <td>149907.3900</td>\n",
              "    </tr>\n",
              "    <tr>\n",
              "      <th>...</th>\n",
              "      <td>...</td>\n",
              "      <td>...</td>\n",
              "      <td>...</td>\n",
              "    </tr>\n",
              "    <tr>\n",
              "      <th>25475</th>\n",
              "      <td>2601</td>\n",
              "      <td>2008</td>\n",
              "      <td>77092.5700</td>\n",
              "    </tr>\n",
              "    <tr>\n",
              "      <th>25476</th>\n",
              "      <td>3274</td>\n",
              "      <td>2006</td>\n",
              "      <td>279174.7900</td>\n",
              "    </tr>\n",
              "    <tr>\n",
              "      <th>25477</th>\n",
              "      <td>1121</td>\n",
              "      <td>1910</td>\n",
              "      <td>146298.8500</td>\n",
              "    </tr>\n",
              "    <tr>\n",
              "      <th>25478</th>\n",
              "      <td>1918</td>\n",
              "      <td>1887</td>\n",
              "      <td>86154.7700</td>\n",
              "    </tr>\n",
              "    <tr>\n",
              "      <th>25479</th>\n",
              "      <td>3195</td>\n",
              "      <td>1960</td>\n",
              "      <td>70876.9100</td>\n",
              "    </tr>\n",
              "  </tbody>\n",
              "</table>\n",
              "<p>25480 rows × 3 columns</p>\n",
              "</div>\n",
              "    <div class=\"colab-df-buttons\">\n",
              "\n",
              "  <div class=\"colab-df-container\">\n",
              "    <button class=\"colab-df-convert\" onclick=\"convertToInteractive('df-91a69a3e-2b98-4bbf-9dc1-ae683aef5efc')\"\n",
              "            title=\"Convert this dataframe to an interactive table.\"\n",
              "            style=\"display:none;\">\n",
              "\n",
              "  <svg xmlns=\"http://www.w3.org/2000/svg\" height=\"24px\" viewBox=\"0 -960 960 960\">\n",
              "    <path d=\"M120-120v-720h720v720H120Zm60-500h600v-160H180v160Zm220 220h160v-160H400v160Zm0 220h160v-160H400v160ZM180-400h160v-160H180v160Zm440 0h160v-160H620v160ZM180-180h160v-160H180v160Zm440 0h160v-160H620v160Z\"/>\n",
              "  </svg>\n",
              "    </button>\n",
              "\n",
              "  <style>\n",
              "    .colab-df-container {\n",
              "      display:flex;\n",
              "      gap: 12px;\n",
              "    }\n",
              "\n",
              "    .colab-df-convert {\n",
              "      background-color: #E8F0FE;\n",
              "      border: none;\n",
              "      border-radius: 50%;\n",
              "      cursor: pointer;\n",
              "      display: none;\n",
              "      fill: #1967D2;\n",
              "      height: 32px;\n",
              "      padding: 0 0 0 0;\n",
              "      width: 32px;\n",
              "    }\n",
              "\n",
              "    .colab-df-convert:hover {\n",
              "      background-color: #E2EBFA;\n",
              "      box-shadow: 0px 1px 2px rgba(60, 64, 67, 0.3), 0px 1px 3px 1px rgba(60, 64, 67, 0.15);\n",
              "      fill: #174EA6;\n",
              "    }\n",
              "\n",
              "    .colab-df-buttons div {\n",
              "      margin-bottom: 4px;\n",
              "    }\n",
              "\n",
              "    [theme=dark] .colab-df-convert {\n",
              "      background-color: #3B4455;\n",
              "      fill: #D2E3FC;\n",
              "    }\n",
              "\n",
              "    [theme=dark] .colab-df-convert:hover {\n",
              "      background-color: #434B5C;\n",
              "      box-shadow: 0px 1px 3px 1px rgba(0, 0, 0, 0.15);\n",
              "      filter: drop-shadow(0px 1px 2px rgba(0, 0, 0, 0.3));\n",
              "      fill: #FFFFFF;\n",
              "    }\n",
              "  </style>\n",
              "\n",
              "    <script>\n",
              "      const buttonEl =\n",
              "        document.querySelector('#df-91a69a3e-2b98-4bbf-9dc1-ae683aef5efc button.colab-df-convert');\n",
              "      buttonEl.style.display =\n",
              "        google.colab.kernel.accessAllowed ? 'block' : 'none';\n",
              "\n",
              "      async function convertToInteractive(key) {\n",
              "        const element = document.querySelector('#df-91a69a3e-2b98-4bbf-9dc1-ae683aef5efc');\n",
              "        const dataTable =\n",
              "          await google.colab.kernel.invokeFunction('convertToInteractive',\n",
              "                                                    [key], {});\n",
              "        if (!dataTable) return;\n",
              "\n",
              "        const docLinkHtml = 'Like what you see? Visit the ' +\n",
              "          '<a target=\"_blank\" href=https://colab.research.google.com/notebooks/data_table.ipynb>data table notebook</a>'\n",
              "          + ' to learn more about interactive tables.';\n",
              "        element.innerHTML = '';\n",
              "        dataTable['output_type'] = 'display_data';\n",
              "        await google.colab.output.renderOutput(dataTable, element);\n",
              "        const docLink = document.createElement('div');\n",
              "        docLink.innerHTML = docLinkHtml;\n",
              "        element.appendChild(docLink);\n",
              "      }\n",
              "    </script>\n",
              "  </div>\n",
              "\n",
              "\n",
              "<div id=\"df-14c16d35-b9bf-431a-8cd3-39b72d1d30a9\">\n",
              "  <button class=\"colab-df-quickchart\" onclick=\"quickchart('df-14c16d35-b9bf-431a-8cd3-39b72d1d30a9')\"\n",
              "            title=\"Suggest charts\"\n",
              "            style=\"display:none;\">\n",
              "\n",
              "<svg xmlns=\"http://www.w3.org/2000/svg\" height=\"24px\"viewBox=\"0 0 24 24\"\n",
              "     width=\"24px\">\n",
              "    <g>\n",
              "        <path d=\"M19 3H5c-1.1 0-2 .9-2 2v14c0 1.1.9 2 2 2h14c1.1 0 2-.9 2-2V5c0-1.1-.9-2-2-2zM9 17H7v-7h2v7zm4 0h-2V7h2v10zm4 0h-2v-4h2v4z\"/>\n",
              "    </g>\n",
              "</svg>\n",
              "  </button>\n",
              "\n",
              "<style>\n",
              "  .colab-df-quickchart {\n",
              "      --bg-color: #E8F0FE;\n",
              "      --fill-color: #1967D2;\n",
              "      --hover-bg-color: #E2EBFA;\n",
              "      --hover-fill-color: #174EA6;\n",
              "      --disabled-fill-color: #AAA;\n",
              "      --disabled-bg-color: #DDD;\n",
              "  }\n",
              "\n",
              "  [theme=dark] .colab-df-quickchart {\n",
              "      --bg-color: #3B4455;\n",
              "      --fill-color: #D2E3FC;\n",
              "      --hover-bg-color: #434B5C;\n",
              "      --hover-fill-color: #FFFFFF;\n",
              "      --disabled-bg-color: #3B4455;\n",
              "      --disabled-fill-color: #666;\n",
              "  }\n",
              "\n",
              "  .colab-df-quickchart {\n",
              "    background-color: var(--bg-color);\n",
              "    border: none;\n",
              "    border-radius: 50%;\n",
              "    cursor: pointer;\n",
              "    display: none;\n",
              "    fill: var(--fill-color);\n",
              "    height: 32px;\n",
              "    padding: 0;\n",
              "    width: 32px;\n",
              "  }\n",
              "\n",
              "  .colab-df-quickchart:hover {\n",
              "    background-color: var(--hover-bg-color);\n",
              "    box-shadow: 0 1px 2px rgba(60, 64, 67, 0.3), 0 1px 3px 1px rgba(60, 64, 67, 0.15);\n",
              "    fill: var(--button-hover-fill-color);\n",
              "  }\n",
              "\n",
              "  .colab-df-quickchart-complete:disabled,\n",
              "  .colab-df-quickchart-complete:disabled:hover {\n",
              "    background-color: var(--disabled-bg-color);\n",
              "    fill: var(--disabled-fill-color);\n",
              "    box-shadow: none;\n",
              "  }\n",
              "\n",
              "  .colab-df-spinner {\n",
              "    border: 2px solid var(--fill-color);\n",
              "    border-color: transparent;\n",
              "    border-bottom-color: var(--fill-color);\n",
              "    animation:\n",
              "      spin 1s steps(1) infinite;\n",
              "  }\n",
              "\n",
              "  @keyframes spin {\n",
              "    0% {\n",
              "      border-color: transparent;\n",
              "      border-bottom-color: var(--fill-color);\n",
              "      border-left-color: var(--fill-color);\n",
              "    }\n",
              "    20% {\n",
              "      border-color: transparent;\n",
              "      border-left-color: var(--fill-color);\n",
              "      border-top-color: var(--fill-color);\n",
              "    }\n",
              "    30% {\n",
              "      border-color: transparent;\n",
              "      border-left-color: var(--fill-color);\n",
              "      border-top-color: var(--fill-color);\n",
              "      border-right-color: var(--fill-color);\n",
              "    }\n",
              "    40% {\n",
              "      border-color: transparent;\n",
              "      border-right-color: var(--fill-color);\n",
              "      border-top-color: var(--fill-color);\n",
              "    }\n",
              "    60% {\n",
              "      border-color: transparent;\n",
              "      border-right-color: var(--fill-color);\n",
              "    }\n",
              "    80% {\n",
              "      border-color: transparent;\n",
              "      border-right-color: var(--fill-color);\n",
              "      border-bottom-color: var(--fill-color);\n",
              "    }\n",
              "    90% {\n",
              "      border-color: transparent;\n",
              "      border-bottom-color: var(--fill-color);\n",
              "    }\n",
              "  }\n",
              "</style>\n",
              "\n",
              "  <script>\n",
              "    async function quickchart(key) {\n",
              "      const quickchartButtonEl =\n",
              "        document.querySelector('#' + key + ' button');\n",
              "      quickchartButtonEl.disabled = true;  // To prevent multiple clicks.\n",
              "      quickchartButtonEl.classList.add('colab-df-spinner');\n",
              "      try {\n",
              "        const charts = await google.colab.kernel.invokeFunction(\n",
              "            'suggestCharts', [key], {});\n",
              "      } catch (error) {\n",
              "        console.error('Error during call to suggestCharts:', error);\n",
              "      }\n",
              "      quickchartButtonEl.classList.remove('colab-df-spinner');\n",
              "      quickchartButtonEl.classList.add('colab-df-quickchart-complete');\n",
              "    }\n",
              "    (() => {\n",
              "      let quickchartButtonEl =\n",
              "        document.querySelector('#df-14c16d35-b9bf-431a-8cd3-39b72d1d30a9 button');\n",
              "      quickchartButtonEl.style.display =\n",
              "        google.colab.kernel.accessAllowed ? 'block' : 'none';\n",
              "    })();\n",
              "  </script>\n",
              "</div>\n",
              "\n",
              "    </div>\n",
              "  </div>\n"
            ],
            "application/vnd.google.colaboratory.intrinsic+json": {
              "type": "dataframe",
              "summary": "{\n  \"name\": \"visa_df\",\n  \"rows\": 25480,\n  \"fields\": [\n    {\n      \"column\": \"no_of_employees\",\n      \"properties\": {\n        \"dtype\": \"number\",\n        \"std\": 22877,\n        \"min\": -26,\n        \"max\": 602069,\n        \"num_unique_values\": 7105,\n        \"samples\": [\n          146713,\n          9342,\n          4427\n        ],\n        \"semantic_type\": \"\",\n        \"description\": \"\"\n      }\n    },\n    {\n      \"column\": \"yr_of_estab\",\n      \"properties\": {\n        \"dtype\": \"number\",\n        \"std\": 42,\n        \"min\": 1800,\n        \"max\": 2016,\n        \"num_unique_values\": 199,\n        \"samples\": [\n          1843,\n          1972,\n          1927\n        ],\n        \"semantic_type\": \"\",\n        \"description\": \"\"\n      }\n    },\n    {\n      \"column\": \"prevailing_wage\",\n      \"properties\": {\n        \"dtype\": \"number\",\n        \"std\": 52815.94232687371,\n        \"min\": 2.1367,\n        \"max\": 319210.27,\n        \"num_unique_values\": 25454,\n        \"samples\": [\n          44218.42,\n          60458.9,\n          137458.66\n        ],\n        \"semantic_type\": \"\",\n        \"description\": \"\"\n      }\n    }\n  ]\n}"
            }
          },
          "metadata": {},
          "execution_count": 4
        }
      ]
    },
    {
      "cell_type": "code",
      "source": [
        "visa_df.select_dtypes(exclude='object').columns"
      ],
      "metadata": {
        "colab": {
          "base_uri": "https://localhost:8080/"
        },
        "id": "9_ufmPq_XQnh",
        "outputId": "00529f47-4be4-45cb-c961-b47148f51ba1"
      },
      "execution_count": 5,
      "outputs": [
        {
          "output_type": "execute_result",
          "data": {
            "text/plain": [
              "Index(['no_of_employees', 'yr_of_estab', 'prevailing_wage'], dtype='object')"
            ]
          },
          "metadata": {},
          "execution_count": 5
        }
      ]
    },
    {
      "cell_type": "markdown",
      "source": [
        " ----->>> prevailing_wage\n",
        " - len\n",
        " - max\n",
        " -min\n",
        " -mean\n",
        " -median\n",
        " -std\n",
        " - 75%\n",
        " - 50%\n",
        " - 25%\n",
        " **bold text**"
      ],
      "metadata": {
        "id": "0K5kDzplYnk8"
      }
    },
    {
      "cell_type": "code",
      "source": [
        "# count or len\n",
        "len(visa_df['prevailing_wage'])"
      ],
      "metadata": {
        "colab": {
          "base_uri": "https://localhost:8080/"
        },
        "id": "tO-FHWYmY10J",
        "outputId": "e3ddc699-7e4d-4c74-f8c7-415ec31fe782"
      },
      "execution_count": null,
      "outputs": [
        {
          "output_type": "execute_result",
          "data": {
            "text/plain": [
              "25480"
            ]
          },
          "metadata": {},
          "execution_count": 6
        }
      ]
    },
    {
      "cell_type": "code",
      "source": [
        "max(visa_df['prevailing_wage']) # keyword"
      ],
      "metadata": {
        "colab": {
          "base_uri": "https://localhost:8080/"
        },
        "id": "Jpo_1o_EZQUH",
        "outputId": "3749757c-4771-4498-ac26-8fcdde270b22"
      },
      "execution_count": null,
      "outputs": [
        {
          "output_type": "execute_result",
          "data": {
            "text/plain": [
              "319210.27"
            ]
          },
          "metadata": {},
          "execution_count": 20
        }
      ]
    },
    {
      "cell_type": "code",
      "source": [
        "visa_df['prevailing_wage'].max() #Pandas"
      ],
      "metadata": {
        "colab": {
          "base_uri": "https://localhost:8080/"
        },
        "id": "h1mj4X_OZU2d",
        "outputId": "be048a32-b5e4-4953-d4ee-ee560e067c2f"
      },
      "execution_count": null,
      "outputs": [
        {
          "output_type": "execute_result",
          "data": {
            "text/plain": [
              "319210.27"
            ]
          },
          "metadata": {},
          "execution_count": 8
        }
      ]
    },
    {
      "cell_type": "code",
      "source": [
        "np.max(visa_df['prevailing_wage']) #numpy"
      ],
      "metadata": {
        "colab": {
          "base_uri": "https://localhost:8080/"
        },
        "id": "rdmQtkWxZjCs",
        "outputId": "e1a41d89-ec19-48c0-891a-f502563dc57f"
      },
      "execution_count": null,
      "outputs": [
        {
          "output_type": "execute_result",
          "data": {
            "text/plain": [
              "319210.27"
            ]
          },
          "metadata": {},
          "execution_count": 9
        }
      ]
    },
    {
      "cell_type": "code",
      "source": [
        "print(min(visa_df['prevailing_wage'])) # keyword\n",
        "visa_df['prevailing_wage'].min() #Pandas\n",
        "np.min(visa_df['prevailing_wage']) #numpy"
      ],
      "metadata": {
        "colab": {
          "base_uri": "https://localhost:8080/"
        },
        "id": "OP70j7nqZs94",
        "outputId": "8c9e2757-d7f3-4b68-db81-7b0152d5d195"
      },
      "execution_count": null,
      "outputs": [
        {
          "output_type": "stream",
          "name": "stdout",
          "text": [
            "2.1367\n"
          ]
        },
        {
          "output_type": "execute_result",
          "data": {
            "text/plain": [
              "2.1367"
            ]
          },
          "metadata": {},
          "execution_count": 11
        }
      ]
    },
    {
      "cell_type": "code",
      "source": [
        "visa_df['prevailing_wage'].mean() #mean"
      ],
      "metadata": {
        "colab": {
          "base_uri": "https://localhost:8080/"
        },
        "id": "CRWdjBAVZ83C",
        "outputId": "66f84e9f-07a8-4fc9-8373-4e5d86284d3d"
      },
      "execution_count": null,
      "outputs": [
        {
          "output_type": "execute_result",
          "data": {
            "text/plain": [
              "74455.81459209183"
            ]
          },
          "metadata": {},
          "execution_count": 21
        }
      ]
    },
    {
      "cell_type": "code",
      "source": [
        "np.mean(visa_df['prevailing_wage'])"
      ],
      "metadata": {
        "colab": {
          "base_uri": "https://localhost:8080/"
        },
        "id": "TBjjITbGaWys",
        "outputId": "a5eeb6c1-e1a6-4f00-e7bf-d8dfe1d863ab"
      },
      "execution_count": null,
      "outputs": [
        {
          "output_type": "execute_result",
          "data": {
            "text/plain": [
              "74455.81459209183"
            ]
          },
          "metadata": {},
          "execution_count": 14
        }
      ]
    },
    {
      "cell_type": "code",
      "source": [
        "visa_df['prevailing_wage'].median()"
      ],
      "metadata": {
        "colab": {
          "base_uri": "https://localhost:8080/"
        },
        "id": "j_BWZMdbaaEh",
        "outputId": "39786606-64e2-4fea-d1fa-629e4164bd6b"
      },
      "execution_count": null,
      "outputs": [
        {
          "output_type": "execute_result",
          "data": {
            "text/plain": [
              "70308.20999999999"
            ]
          },
          "metadata": {},
          "execution_count": 17
        }
      ]
    },
    {
      "cell_type": "code",
      "source": [
        "np.median(visa_df['prevailing_wage'])"
      ],
      "metadata": {
        "colab": {
          "base_uri": "https://localhost:8080/"
        },
        "id": "mVt1ga5_adlf",
        "outputId": "e8aae4ae-14da-4edc-d1e5-99bcafbbd1a4"
      },
      "execution_count": null,
      "outputs": [
        {
          "output_type": "execute_result",
          "data": {
            "text/plain": [
              "70308.20999999999"
            ]
          },
          "metadata": {},
          "execution_count": 16
        }
      ]
    },
    {
      "cell_type": "code",
      "source": [
        "visa_df['prevailing_wage'].std()"
      ],
      "metadata": {
        "colab": {
          "base_uri": "https://localhost:8080/"
        },
        "id": "Z6AvNaTOaikN",
        "outputId": "19c5d34b-7171-44f3-cddc-bf0a333ccca4"
      },
      "execution_count": null,
      "outputs": [
        {
          "output_type": "execute_result",
          "data": {
            "text/plain": [
              "52815.94232687371"
            ]
          },
          "metadata": {},
          "execution_count": 18
        }
      ]
    },
    {
      "cell_type": "code",
      "source": [
        "np.std(visa_df['prevailing_wage'])"
      ],
      "metadata": {
        "colab": {
          "base_uri": "https://localhost:8080/"
        },
        "id": "qulPoL4tawi3",
        "outputId": "643083e1-31b8-45ab-9c1a-14af9d383c02"
      },
      "execution_count": null,
      "outputs": [
        {
          "output_type": "execute_result",
          "data": {
            "text/plain": [
              "52814.90589711416"
            ]
          },
          "metadata": {},
          "execution_count": 19
        }
      ]
    },
    {
      "cell_type": "code",
      "source": [
        "# All together\n",
        "wage_count=round(len(visa_df['prevailing_wage']),2)\n",
        "wage_max=round(max(visa_df['prevailing_wage']),2)\n",
        "wage_min=round(min(visa_df['prevailing_wage']),2)\n",
        "wage_mean=round(visa_df['prevailing_wage'].mean(),2)\n",
        "wage_median=round(visa_df['prevailing_wage'].median(),2)\n",
        "wage_std=round(visa_df['prevailing_wage'].std(),2)\n",
        "index_v=['count','Max','Min','Mean',\"Median\",\"Std\"]"
      ],
      "metadata": {
        "id": "zo3R4p18a0zN"
      },
      "execution_count": null,
      "outputs": []
    },
    {
      "cell_type": "code",
      "source": [
        "wage_list=[wage_count,wage_max,wage_min,wage_mean,wage_median,wage_std]\n",
        "print(wage_list)"
      ],
      "metadata": {
        "colab": {
          "base_uri": "https://localhost:8080/"
        },
        "id": "ar870QbFbyky",
        "outputId": "17905b1e-d896-479a-fb90-253353e49387"
      },
      "execution_count": 13,
      "outputs": [
        {
          "output_type": "stream",
          "name": "stdout",
          "text": [
            "[25480, 319210.27, 2.14, 74455.81, 70308.21, 52815.94]\n"
          ]
        }
      ]
    },
    {
      "cell_type": "code",
      "source": [
        "wage_df=pd.DataFrame(wage_list,columns=['prevailing_wage'],index=index_v)\n",
        "wage_df"
      ],
      "metadata": {
        "colab": {
          "base_uri": "https://localhost:8080/",
          "height": 257
        },
        "id": "T8zCZDN6dO-M",
        "outputId": "ed03f3e7-9679-4542-fbb3-8c948a724ff5"
      },
      "execution_count": null,
      "outputs": [
        {
          "output_type": "execute_result",
          "data": {
            "text/plain": [
              "        prevailing_wage\n",
              "count          25480.00\n",
              "Max           319210.27\n",
              "Min                2.14\n",
              "Mean           74455.81\n",
              "Median         70308.21\n",
              "Std            52815.94"
            ],
            "text/html": [
              "\n",
              "  <div id=\"df-13e31ce2-9b73-4450-ab2d-10b7cd799c25\" class=\"colab-df-container\">\n",
              "    <div>\n",
              "<style scoped>\n",
              "    .dataframe tbody tr th:only-of-type {\n",
              "        vertical-align: middle;\n",
              "    }\n",
              "\n",
              "    .dataframe tbody tr th {\n",
              "        vertical-align: top;\n",
              "    }\n",
              "\n",
              "    .dataframe thead th {\n",
              "        text-align: right;\n",
              "    }\n",
              "</style>\n",
              "<table border=\"1\" class=\"dataframe\">\n",
              "  <thead>\n",
              "    <tr style=\"text-align: right;\">\n",
              "      <th></th>\n",
              "      <th>prevailing_wage</th>\n",
              "    </tr>\n",
              "  </thead>\n",
              "  <tbody>\n",
              "    <tr>\n",
              "      <th>count</th>\n",
              "      <td>25480.00</td>\n",
              "    </tr>\n",
              "    <tr>\n",
              "      <th>Max</th>\n",
              "      <td>319210.27</td>\n",
              "    </tr>\n",
              "    <tr>\n",
              "      <th>Min</th>\n",
              "      <td>2.14</td>\n",
              "    </tr>\n",
              "    <tr>\n",
              "      <th>Mean</th>\n",
              "      <td>74455.81</td>\n",
              "    </tr>\n",
              "    <tr>\n",
              "      <th>Median</th>\n",
              "      <td>70308.21</td>\n",
              "    </tr>\n",
              "    <tr>\n",
              "      <th>Std</th>\n",
              "      <td>52815.94</td>\n",
              "    </tr>\n",
              "  </tbody>\n",
              "</table>\n",
              "</div>\n",
              "    <div class=\"colab-df-buttons\">\n",
              "\n",
              "  <div class=\"colab-df-container\">\n",
              "    <button class=\"colab-df-convert\" onclick=\"convertToInteractive('df-13e31ce2-9b73-4450-ab2d-10b7cd799c25')\"\n",
              "            title=\"Convert this dataframe to an interactive table.\"\n",
              "            style=\"display:none;\">\n",
              "\n",
              "  <svg xmlns=\"http://www.w3.org/2000/svg\" height=\"24px\" viewBox=\"0 -960 960 960\">\n",
              "    <path d=\"M120-120v-720h720v720H120Zm60-500h600v-160H180v160Zm220 220h160v-160H400v160Zm0 220h160v-160H400v160ZM180-400h160v-160H180v160Zm440 0h160v-160H620v160ZM180-180h160v-160H180v160Zm440 0h160v-160H620v160Z\"/>\n",
              "  </svg>\n",
              "    </button>\n",
              "\n",
              "  <style>\n",
              "    .colab-df-container {\n",
              "      display:flex;\n",
              "      gap: 12px;\n",
              "    }\n",
              "\n",
              "    .colab-df-convert {\n",
              "      background-color: #E8F0FE;\n",
              "      border: none;\n",
              "      border-radius: 50%;\n",
              "      cursor: pointer;\n",
              "      display: none;\n",
              "      fill: #1967D2;\n",
              "      height: 32px;\n",
              "      padding: 0 0 0 0;\n",
              "      width: 32px;\n",
              "    }\n",
              "\n",
              "    .colab-df-convert:hover {\n",
              "      background-color: #E2EBFA;\n",
              "      box-shadow: 0px 1px 2px rgba(60, 64, 67, 0.3), 0px 1px 3px 1px rgba(60, 64, 67, 0.15);\n",
              "      fill: #174EA6;\n",
              "    }\n",
              "\n",
              "    .colab-df-buttons div {\n",
              "      margin-bottom: 4px;\n",
              "    }\n",
              "\n",
              "    [theme=dark] .colab-df-convert {\n",
              "      background-color: #3B4455;\n",
              "      fill: #D2E3FC;\n",
              "    }\n",
              "\n",
              "    [theme=dark] .colab-df-convert:hover {\n",
              "      background-color: #434B5C;\n",
              "      box-shadow: 0px 1px 3px 1px rgba(0, 0, 0, 0.15);\n",
              "      filter: drop-shadow(0px 1px 2px rgba(0, 0, 0, 0.3));\n",
              "      fill: #FFFFFF;\n",
              "    }\n",
              "  </style>\n",
              "\n",
              "    <script>\n",
              "      const buttonEl =\n",
              "        document.querySelector('#df-13e31ce2-9b73-4450-ab2d-10b7cd799c25 button.colab-df-convert');\n",
              "      buttonEl.style.display =\n",
              "        google.colab.kernel.accessAllowed ? 'block' : 'none';\n",
              "\n",
              "      async function convertToInteractive(key) {\n",
              "        const element = document.querySelector('#df-13e31ce2-9b73-4450-ab2d-10b7cd799c25');\n",
              "        const dataTable =\n",
              "          await google.colab.kernel.invokeFunction('convertToInteractive',\n",
              "                                                    [key], {});\n",
              "        if (!dataTable) return;\n",
              "\n",
              "        const docLinkHtml = 'Like what you see? Visit the ' +\n",
              "          '<a target=\"_blank\" href=https://colab.research.google.com/notebooks/data_table.ipynb>data table notebook</a>'\n",
              "          + ' to learn more about interactive tables.';\n",
              "        element.innerHTML = '';\n",
              "        dataTable['output_type'] = 'display_data';\n",
              "        await google.colab.output.renderOutput(dataTable, element);\n",
              "        const docLink = document.createElement('div');\n",
              "        docLink.innerHTML = docLinkHtml;\n",
              "        element.appendChild(docLink);\n",
              "      }\n",
              "    </script>\n",
              "  </div>\n",
              "\n",
              "\n",
              "<div id=\"df-6a3dc8fc-646c-4d11-8a32-ef8cd81c0a40\">\n",
              "  <button class=\"colab-df-quickchart\" onclick=\"quickchart('df-6a3dc8fc-646c-4d11-8a32-ef8cd81c0a40')\"\n",
              "            title=\"Suggest charts\"\n",
              "            style=\"display:none;\">\n",
              "\n",
              "<svg xmlns=\"http://www.w3.org/2000/svg\" height=\"24px\"viewBox=\"0 0 24 24\"\n",
              "     width=\"24px\">\n",
              "    <g>\n",
              "        <path d=\"M19 3H5c-1.1 0-2 .9-2 2v14c0 1.1.9 2 2 2h14c1.1 0 2-.9 2-2V5c0-1.1-.9-2-2-2zM9 17H7v-7h2v7zm4 0h-2V7h2v10zm4 0h-2v-4h2v4z\"/>\n",
              "    </g>\n",
              "</svg>\n",
              "  </button>\n",
              "\n",
              "<style>\n",
              "  .colab-df-quickchart {\n",
              "      --bg-color: #E8F0FE;\n",
              "      --fill-color: #1967D2;\n",
              "      --hover-bg-color: #E2EBFA;\n",
              "      --hover-fill-color: #174EA6;\n",
              "      --disabled-fill-color: #AAA;\n",
              "      --disabled-bg-color: #DDD;\n",
              "  }\n",
              "\n",
              "  [theme=dark] .colab-df-quickchart {\n",
              "      --bg-color: #3B4455;\n",
              "      --fill-color: #D2E3FC;\n",
              "      --hover-bg-color: #434B5C;\n",
              "      --hover-fill-color: #FFFFFF;\n",
              "      --disabled-bg-color: #3B4455;\n",
              "      --disabled-fill-color: #666;\n",
              "  }\n",
              "\n",
              "  .colab-df-quickchart {\n",
              "    background-color: var(--bg-color);\n",
              "    border: none;\n",
              "    border-radius: 50%;\n",
              "    cursor: pointer;\n",
              "    display: none;\n",
              "    fill: var(--fill-color);\n",
              "    height: 32px;\n",
              "    padding: 0;\n",
              "    width: 32px;\n",
              "  }\n",
              "\n",
              "  .colab-df-quickchart:hover {\n",
              "    background-color: var(--hover-bg-color);\n",
              "    box-shadow: 0 1px 2px rgba(60, 64, 67, 0.3), 0 1px 3px 1px rgba(60, 64, 67, 0.15);\n",
              "    fill: var(--button-hover-fill-color);\n",
              "  }\n",
              "\n",
              "  .colab-df-quickchart-complete:disabled,\n",
              "  .colab-df-quickchart-complete:disabled:hover {\n",
              "    background-color: var(--disabled-bg-color);\n",
              "    fill: var(--disabled-fill-color);\n",
              "    box-shadow: none;\n",
              "  }\n",
              "\n",
              "  .colab-df-spinner {\n",
              "    border: 2px solid var(--fill-color);\n",
              "    border-color: transparent;\n",
              "    border-bottom-color: var(--fill-color);\n",
              "    animation:\n",
              "      spin 1s steps(1) infinite;\n",
              "  }\n",
              "\n",
              "  @keyframes spin {\n",
              "    0% {\n",
              "      border-color: transparent;\n",
              "      border-bottom-color: var(--fill-color);\n",
              "      border-left-color: var(--fill-color);\n",
              "    }\n",
              "    20% {\n",
              "      border-color: transparent;\n",
              "      border-left-color: var(--fill-color);\n",
              "      border-top-color: var(--fill-color);\n",
              "    }\n",
              "    30% {\n",
              "      border-color: transparent;\n",
              "      border-left-color: var(--fill-color);\n",
              "      border-top-color: var(--fill-color);\n",
              "      border-right-color: var(--fill-color);\n",
              "    }\n",
              "    40% {\n",
              "      border-color: transparent;\n",
              "      border-right-color: var(--fill-color);\n",
              "      border-top-color: var(--fill-color);\n",
              "    }\n",
              "    60% {\n",
              "      border-color: transparent;\n",
              "      border-right-color: var(--fill-color);\n",
              "    }\n",
              "    80% {\n",
              "      border-color: transparent;\n",
              "      border-right-color: var(--fill-color);\n",
              "      border-bottom-color: var(--fill-color);\n",
              "    }\n",
              "    90% {\n",
              "      border-color: transparent;\n",
              "      border-bottom-color: var(--fill-color);\n",
              "    }\n",
              "  }\n",
              "</style>\n",
              "\n",
              "  <script>\n",
              "    async function quickchart(key) {\n",
              "      const quickchartButtonEl =\n",
              "        document.querySelector('#' + key + ' button');\n",
              "      quickchartButtonEl.disabled = true;  // To prevent multiple clicks.\n",
              "      quickchartButtonEl.classList.add('colab-df-spinner');\n",
              "      try {\n",
              "        const charts = await google.colab.kernel.invokeFunction(\n",
              "            'suggestCharts', [key], {});\n",
              "      } catch (error) {\n",
              "        console.error('Error during call to suggestCharts:', error);\n",
              "      }\n",
              "      quickchartButtonEl.classList.remove('colab-df-spinner');\n",
              "      quickchartButtonEl.classList.add('colab-df-quickchart-complete');\n",
              "    }\n",
              "    (() => {\n",
              "      let quickchartButtonEl =\n",
              "        document.querySelector('#df-6a3dc8fc-646c-4d11-8a32-ef8cd81c0a40 button');\n",
              "      quickchartButtonEl.style.display =\n",
              "        google.colab.kernel.accessAllowed ? 'block' : 'none';\n",
              "    })();\n",
              "  </script>\n",
              "</div>\n",
              "\n",
              "  <div id=\"id_c0b89aa3-79ec-4311-af3a-3cc840dd567c\">\n",
              "    <style>\n",
              "      .colab-df-generate {\n",
              "        background-color: #E8F0FE;\n",
              "        border: none;\n",
              "        border-radius: 50%;\n",
              "        cursor: pointer;\n",
              "        display: none;\n",
              "        fill: #1967D2;\n",
              "        height: 32px;\n",
              "        padding: 0 0 0 0;\n",
              "        width: 32px;\n",
              "      }\n",
              "\n",
              "      .colab-df-generate:hover {\n",
              "        background-color: #E2EBFA;\n",
              "        box-shadow: 0px 1px 2px rgba(60, 64, 67, 0.3), 0px 1px 3px 1px rgba(60, 64, 67, 0.15);\n",
              "        fill: #174EA6;\n",
              "      }\n",
              "\n",
              "      [theme=dark] .colab-df-generate {\n",
              "        background-color: #3B4455;\n",
              "        fill: #D2E3FC;\n",
              "      }\n",
              "\n",
              "      [theme=dark] .colab-df-generate:hover {\n",
              "        background-color: #434B5C;\n",
              "        box-shadow: 0px 1px 3px 1px rgba(0, 0, 0, 0.15);\n",
              "        filter: drop-shadow(0px 1px 2px rgba(0, 0, 0, 0.3));\n",
              "        fill: #FFFFFF;\n",
              "      }\n",
              "    </style>\n",
              "    <button class=\"colab-df-generate\" onclick=\"generateWithVariable('wage_df')\"\n",
              "            title=\"Generate code using this dataframe.\"\n",
              "            style=\"display:none;\">\n",
              "\n",
              "  <svg xmlns=\"http://www.w3.org/2000/svg\" height=\"24px\"viewBox=\"0 0 24 24\"\n",
              "       width=\"24px\">\n",
              "    <path d=\"M7,19H8.4L18.45,9,17,7.55,7,17.6ZM5,21V16.75L18.45,3.32a2,2,0,0,1,2.83,0l1.4,1.43a1.91,1.91,0,0,1,.58,1.4,1.91,1.91,0,0,1-.58,1.4L9.25,21ZM18.45,9,17,7.55Zm-12,3A5.31,5.31,0,0,0,4.9,8.1,5.31,5.31,0,0,0,1,6.5,5.31,5.31,0,0,0,4.9,4.9,5.31,5.31,0,0,0,6.5,1,5.31,5.31,0,0,0,8.1,4.9,5.31,5.31,0,0,0,12,6.5,5.46,5.46,0,0,0,6.5,12Z\"/>\n",
              "  </svg>\n",
              "    </button>\n",
              "    <script>\n",
              "      (() => {\n",
              "      const buttonEl =\n",
              "        document.querySelector('#id_c0b89aa3-79ec-4311-af3a-3cc840dd567c button.colab-df-generate');\n",
              "      buttonEl.style.display =\n",
              "        google.colab.kernel.accessAllowed ? 'block' : 'none';\n",
              "\n",
              "      buttonEl.onclick = () => {\n",
              "        google.colab.notebook.generateWithVariable('wage_df');\n",
              "      }\n",
              "      })();\n",
              "    </script>\n",
              "  </div>\n",
              "\n",
              "    </div>\n",
              "  </div>\n"
            ],
            "application/vnd.google.colaboratory.intrinsic+json": {
              "type": "dataframe",
              "variable_name": "wage_df",
              "summary": "{\n  \"name\": \"wage_df\",\n  \"rows\": 6,\n  \"fields\": [\n    {\n      \"column\": \"prevailing_wage\",\n      \"properties\": {\n        \"dtype\": \"number\",\n        \"std\": 115594.96115436303,\n        \"min\": 2.14,\n        \"max\": 319210.27,\n        \"num_unique_values\": 6,\n        \"samples\": [\n          25480.0,\n          319210.27,\n          52815.94\n        ],\n        \"semantic_type\": \"\",\n        \"description\": \"\"\n      }\n    }\n  ]\n}"
            }
          },
          "metadata": {},
          "execution_count": 46
        }
      ]
    },
    {
      "cell_type": "markdown",
      "source": [
        "# PErcentile and quantile\n",
        "- Percentile - np.percentile()\n",
        "- It will take two argugments -\n",
        "      - data: a\n",
        "      - percentile - q the values varies from 0 to 100\n",
        "      - if you want 50P data q=50\n",
        "\n",
        "- Quantile\n",
        " --- np.quantile()\n",
        "  -- It will take two arguments\n",
        "     - data:a\n",
        "        - percentile :q the values varies from 0 to1\n",
        "        -\n",
        "        "
      ],
      "metadata": {
        "id": "IcGRRsiafPoP"
      }
    },
    {
      "cell_type": "code",
      "source": [
        "#25p-50p-75p\n",
        "wage_25p = round(np.percentile(visa_df['prevailing_wage'],\n",
        "              25),2)\n",
        "wage_50p = round(np.percentile(visa_df['prevailing_wage'],\n",
        "              50),2)\n",
        "wage_75p = round(np.percentile(visa_df['prevailing_wage'],\n",
        "              75),2)\n",
        "print(f\"the 25% data is {wage_25p}\")\n",
        "print(f\"the 50% data is {wage_50p}\")\n",
        "print(f\"the 75% data is {wage_75p}\")"
      ],
      "metadata": {
        "colab": {
          "base_uri": "https://localhost:8080/"
        },
        "id": "uiUkzzBygO-Q",
        "outputId": "f70b5757-5d92-40de-9ee8-e3ed2ca739bf"
      },
      "execution_count": null,
      "outputs": [
        {
          "output_type": "stream",
          "name": "stdout",
          "text": [
            "the 25% data is 34015.48\n",
            "the 50% data is 70308.21\n",
            "the 75% data is 107735.51\n"
          ]
        }
      ]
    },
    {
      "cell_type": "code",
      "source": [
        "wage_25p = round(np.quantile(visa_df['prevailing_wage'],\n",
        "              0.25),2)\n",
        "wage_50p = round(np.quantile(visa_df['prevailing_wage'],\n",
        "              0.50),2)\n",
        "wage_75p = round(np.quantile(visa_df['prevailing_wage'],\n",
        "              0.75),2)\n",
        "print(f\"the 25% data is {wage_25p}\")\n",
        "print(f\"the 50% data is {wage_50p}\")\n",
        "print(f\"the 75% data is {wage_75p}\")"
      ],
      "metadata": {
        "colab": {
          "base_uri": "https://localhost:8080/"
        },
        "id": "Ip2YI6tXhDB3",
        "outputId": "f030ea4b-e599-4aa9-89fe-15f766156478"
      },
      "execution_count": 14,
      "outputs": [
        {
          "output_type": "stream",
          "name": "stdout",
          "text": [
            "the 25% data is 34015.48\n",
            "the 50% data is 70308.21\n",
            "the 75% data is 107735.51\n"
          ]
        }
      ]
    },
    {
      "cell_type": "markdown",
      "source": [
        "# Percentile -\n",
        "  - definition of 25 percentile\n",
        "  There are 25% of employees has salary less than 34015\n",
        "  - Total employees= 25480\n",
        "  - 25% of employees = 25*25480/100 = 6370\n",
        "  -- 6370 employees salary less than 34015"
      ],
      "metadata": {
        "id": "Yuz0nVgPiSc0"
      }
    },
    {
      "cell_type": "code",
      "source": [
        "con=visa_df['prevailing_wage']<wage_25p\n",
        "len(visa_df[con])"
      ],
      "metadata": {
        "colab": {
          "base_uri": "https://localhost:8080/"
        },
        "id": "vybCBARpjAbC",
        "outputId": "f107029c-cf13-401c-be4b-13f31a6fd38e"
      },
      "execution_count": null,
      "outputs": [
        {
          "output_type": "execute_result",
          "data": {
            "text/plain": [
              "6370"
            ]
          },
          "metadata": {},
          "execution_count": 57
        }
      ]
    },
    {
      "cell_type": "code",
      "source": [
        "con=visa_df['prevailing_wage']<wage_50p\n",
        "len(visa_df[con])"
      ],
      "metadata": {
        "colab": {
          "base_uri": "https://localhost:8080/"
        },
        "id": "K1nvVS2hj4Jx",
        "outputId": "5f87a32f-7811-4a06-c82c-c482e6514a2d"
      },
      "execution_count": null,
      "outputs": [
        {
          "output_type": "execute_result",
          "data": {
            "text/plain": [
              "12740"
            ]
          },
          "metadata": {},
          "execution_count": 59
        }
      ]
    },
    {
      "cell_type": "code",
      "source": [
        "con=visa_df['prevailing_wage']<wage_75p\n",
        "len(visa_df[con])"
      ],
      "metadata": {
        "colab": {
          "base_uri": "https://localhost:8080/"
        },
        "id": "ximFYS2ukE15",
        "outputId": "875ace44-92cd-491f-84ce-a246f718596c"
      },
      "execution_count": null,
      "outputs": [
        {
          "output_type": "execute_result",
          "data": {
            "text/plain": [
              "19110"
            ]
          },
          "metadata": {},
          "execution_count": 60
        }
      ]
    },
    {
      "cell_type": "markdown",
      "source": [
        "# Emperical rule (68-95-99.7)\n",
        "![Untitled.png](data:image/png;base64,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)"
      ],
      "metadata": {
        "id": "TfViPPPfkmXw"
      }
    },
    {
      "cell_type": "code",
      "source": [
        "# 68% of data\n",
        "v1 = wage_mean-1*wage_std\n",
        "v2 = wage_mean+1*wage_std\n",
        "v1,v2"
      ],
      "metadata": {
        "colab": {
          "base_uri": "https://localhost:8080/"
        },
        "id": "YnahKuXgk_7r",
        "outputId": "9f0322c2-c9c0-4200-f81e-579b6de99268"
      },
      "execution_count": null,
      "outputs": [
        {
          "output_type": "execute_result",
          "data": {
            "text/plain": [
              "(21639.869999999995, 127271.75)"
            ]
          },
          "metadata": {},
          "execution_count": 63
        }
      ]
    },
    {
      "cell_type": "code",
      "source": [
        "con1=visa_df['prevailing_wage']>v1\n",
        "con2=visa_df['prevailing_wage']<v2\n",
        "count=visa_df[con1 & con2]\n",
        "count1=len(count)\n",
        "count1,68*25480/100"
      ],
      "metadata": {
        "colab": {
          "base_uri": "https://localhost:8080/"
        },
        "id": "gJ7iIaZzmZHh",
        "outputId": "6810dc63-2f11-450e-f6a6-482e9f6528f4"
      },
      "execution_count": null,
      "outputs": [
        {
          "output_type": "execute_result",
          "data": {
            "text/plain": [
              "(17171, 17326.4)"
            ]
          },
          "metadata": {},
          "execution_count": 69
        }
      ]
    },
    {
      "cell_type": "code",
      "source": [
        "# 95% of data\n",
        "v1_95 = wage_mean-2*wage_std\n",
        "v2_95 = wage_mean+2*wage_std\n",
        "v1_95,v2_95"
      ],
      "metadata": {
        "colab": {
          "base_uri": "https://localhost:8080/"
        },
        "id": "5TszW7ORoIol",
        "outputId": "87961121-ee23-4e6a-c38f-32204f36f8b8"
      },
      "execution_count": null,
      "outputs": [
        {
          "output_type": "execute_result",
          "data": {
            "text/plain": [
              "(-31176.070000000007, 180087.69)"
            ]
          },
          "metadata": {},
          "execution_count": 72
        }
      ]
    },
    {
      "cell_type": "code",
      "source": [
        "con1=visa_df['prevailing_wage']>v1_95\n",
        "con2=visa_df['prevailing_wage']<v2_95\n",
        "count=visa_df[con1 & con2]\n",
        "count1=len(count)\n",
        "count1,95*25480/100"
      ],
      "metadata": {
        "colab": {
          "base_uri": "https://localhost:8080/"
        },
        "id": "-du0GG9bnf4n",
        "outputId": "0e07375c-541c-4305-bbdc-ca4feb4aefa7"
      },
      "execution_count": null,
      "outputs": [
        {
          "output_type": "execute_result",
          "data": {
            "text/plain": [
              "(24582, 24206.0)"
            ]
          },
          "metadata": {},
          "execution_count": 71
        }
      ]
    },
    {
      "cell_type": "code",
      "source": [
        "# 99.7% of data\n",
        "v1_99 = wage_mean-3*wage_std\n",
        "v2_99 = wage_mean+3*wage_std\n",
        "v1_99,v2_99"
      ],
      "metadata": {
        "colab": {
          "base_uri": "https://localhost:8080/"
        },
        "id": "PS5EttHVokid",
        "outputId": "3d3bd59c-bfb9-41a7-a89b-1df9eff66919"
      },
      "execution_count": null,
      "outputs": [
        {
          "output_type": "execute_result",
          "data": {
            "text/plain": [
              "(-83992.01000000001, 232903.63)"
            ]
          },
          "metadata": {},
          "execution_count": 74
        }
      ]
    },
    {
      "cell_type": "code",
      "source": [
        "con1=visa_df['prevailing_wage']>v1_99\n",
        "con2=visa_df['prevailing_wage']<v2_99\n",
        "count=visa_df[con1 & con2]\n",
        "count1=len(count)\n",
        "count1,99.7*25480/100"
      ],
      "metadata": {
        "colab": {
          "base_uri": "https://localhost:8080/"
        },
        "id": "lFqZGyYWovtx",
        "outputId": "88fd3a5a-b75b-4cf5-86e1-9ced93e6deb5"
      },
      "execution_count": null,
      "outputs": [
        {
          "output_type": "execute_result",
          "data": {
            "text/plain": [
              "(25186, 25403.56)"
            ]
          },
          "metadata": {},
          "execution_count": 75
        }
      ]
    },
    {
      "cell_type": "code",
      "source": [
        "plt.boxplot(visa_df['prevailing_wage'])\n",
        "plt.show()"
      ],
      "metadata": {
        "colab": {
          "base_uri": "https://localhost:8080/",
          "height": 450
        },
        "id": "VPkYsEV0tUzF",
        "outputId": "bd10b23b-156f-46e6-bcc3-3f06c7f63b63"
      },
      "execution_count": null,
      "outputs": [
        {
          "output_type": "display_data",
          "data": {
            "text/plain": [
              "<Figure size 640x480 with 1 Axes>"
            ],
            "image/png": "[encoded data removed]"
          },
          "metadata": {}
        }
      ]
    },
    {
      "cell_type": "code",
      "source": [
        "plt.boxplot(visa_df['prevailing_wage'],vert=False)\n",
        "plt.show()"
      ],
      "metadata": {
        "colab": {
          "base_uri": "https://localhost:8080/",
          "height": 450
        },
        "id": "isCmnosatg9q",
        "outputId": "20598efc-5d05-4655-9064-14ea2cdf3b85"
      },
      "execution_count": null,
      "outputs": [
        {
          "output_type": "display_data",
          "data": {
            "text/plain": [
              "<Figure size 640x480 with 1 Axes>"
            ],
            "image/png": "[encoded data removed]"
          },
          "metadata": {}
        }
      ]
    },
    {
      "cell_type": "code",
      "source": [
        "sns.boxplot(visa_df['prevailing_wage'],\n",
        "            orient='h')"
      ],
      "metadata": {
        "colab": {
          "base_uri": "https://localhost:8080/",
          "height": 488
        },
        "id": "d1CZul6EteFw",
        "outputId": "a0706494-b98a-4e05-edca-d7e307c8e43c"
      },
      "execution_count": null,
      "outputs": [
        {
          "output_type": "execute_result",
          "data": {
            "text/plain": [
              "<Axes: xlabel='prevailing_wage'>"
            ]
          },
          "metadata": {},
          "execution_count": 9
        },
        {
          "output_type": "display_data",
          "data": {
            "text/plain": [
              "<Figure size 640x480 with 1 Axes>"
            ],
            "image/png": "[encoded data removed]"
          },
          "metadata": {}
        }
      ]
    },
    {
      "cell_type": "code",
      "source": [
        "plt.figure(figsize=(14,5))\n",
        "plt.subplot(1,2,1).hist(visa_df['prevailing_wage'])\n",
        "plt.subplot(1,2,2).boxplot(visa_df['prevailing_wage'])"
      ],
      "metadata": {
        "colab": {
          "base_uri": "https://localhost:8080/",
          "height": 607
        },
        "id": "GISYkkTwuI-j",
        "outputId": "b1375a2d-f43a-4be7-f45c-b937259a6e3b"
      },
      "execution_count": null,
      "outputs": [
        {
          "output_type": "execute_result",
          "data": {
            "text/plain": [
              "{'whiskers': [<matplotlib.lines.Line2D at 0x7acb87ff5300>,\n",
              "  <matplotlib.lines.Line2D at 0x7acb87ff5030>],\n",
              " 'caps': [<matplotlib.lines.Line2D at 0x7acb87ff5180>,\n",
              "  <matplotlib.lines.Line2D at 0x7acb87ff4c40>],\n",
              " 'boxes': [<matplotlib.lines.Line2D at 0x7acb87ff5480>],\n",
              " 'medians': [<matplotlib.lines.Line2D at 0x7acb87ff4a60>],\n",
              " 'fliers': [<matplotlib.lines.Line2D at 0x7acb87ff4790>],\n",
              " 'means': []}"
            ]
          },
          "metadata": {},
          "execution_count": 11
        },
        {
          "output_type": "display_data",
          "data": {
            "text/plain": [
              "<Figure size 1400x500 with 2 Axes>"
            ],
            "image/png": "[encoded data removed]"
          },
          "metadata": {}
        }
      ]
    },
    {
      "cell_type": "code",
      "source": [
        "plt.figure(figsize=(14,5))\n",
        "plt.subplot(1,2,1)\n",
        "plt.hist(visa_df['prevailing_wage'])\n",
        "plt.subplot(1,2,2)\n",
        "plt.boxplot(visa_df['prevailing_wage'])"
      ],
      "metadata": {
        "colab": {
          "base_uri": "https://localhost:8080/",
          "height": 607
        },
        "id": "g0biMp9YvQU_",
        "outputId": "c177394c-412b-4479-a4fa-4b2fd8d7e0b8"
      },
      "execution_count": null,
      "outputs": [
        {
          "output_type": "execute_result",
          "data": {
            "text/plain": [
              "{'whiskers': [<matplotlib.lines.Line2D at 0x7acb88476980>,\n",
              "  <matplotlib.lines.Line2D at 0x7acb88476c20>],\n",
              " 'caps': [<matplotlib.lines.Line2D at 0x7acb88476ec0>,\n",
              "  <matplotlib.lines.Line2D at 0x7acb88477160>],\n",
              " 'boxes': [<matplotlib.lines.Line2D at 0x7acb884766e0>],\n",
              " 'medians': [<matplotlib.lines.Line2D at 0x7acb88477400>],\n",
              " 'fliers': [<matplotlib.lines.Line2D at 0x7acb884776a0>],\n",
              " 'means': []}"
            ]
          },
          "metadata": {},
          "execution_count": 12
        },
        {
          "output_type": "display_data",
          "data": {
            "text/plain": [
              "<Figure size 1400x500 with 2 Axes>"
            ],
            "image/png": "[encoded data removed]"
          },
          "metadata": {}
        }
      ]
    },
    {
      "cell_type": "markdown",
      "source": [
        "Finding the outliers\n",
        "- outliers are available less than q1-1.5*IQR\n",
        "- outliers are available greater than q3+1.5*IQR\n",
        "- step1\n",
        "    - calcualte q1 : 25p\n",
        "    - calcualte q3 :75p\n",
        "    - calculate IQR:Q3-Q1\n",
        "- step2\n",
        "   - LB= q1-1.5*IQR\n",
        "   - UB = q3+1.5*IQR\n",
        "- step3\n",
        "con1 = visa_df['prevailing_wage']<LB\n",
        " con2 = visa_df['prevailing_wage']>UB\n",
        "- apply Or operator to get outliers data"
      ],
      "metadata": {
        "id": "EO9EzYgIv_u2"
      }
    },
    {
      "cell_type": "code",
      "source": [
        "visa_df_num=visa_df.select_dtypes(exclude='object').columns\n",
        "visa_df_num"
      ],
      "metadata": {
        "colab": {
          "base_uri": "https://localhost:8080/"
        },
        "id": "EL9kPzVVTwxr",
        "outputId": "ef5e9d7f-7fae-4901-cc67-ec563b110c46"
      },
      "execution_count": 11,
      "outputs": [
        {
          "output_type": "execute_result",
          "data": {
            "text/plain": [
              "Index(['no_of_employees', 'yr_of_estab', 'prevailing_wage'], dtype='object')"
            ]
          },
          "metadata": {},
          "execution_count": 11
        }
      ]
    },
    {
      "cell_type": "code",
      "source": [
        "columns_reqd=['no_of_employees', 'yr_of_estab', 'prevailing_wage']\n",
        "l1=[]\n",
        "for i in columns_reqd:\n",
        "  # All together\n",
        "  cols_count=round(len(visa_df[i]),2)\n",
        "  cols_maxx=round(max(visa_df[i]),2)\n",
        "  cols_minn=round(min(visa_df[i]),2)\n",
        "  cols_meann=round(visa_df[i].mean(),2)\n",
        "  cols_mediann=round(visa_df[i].median(),2)\n",
        "  cols_stdn=round(visa_df[i].std(),2)\n",
        "  cols_25p = round(np.quantile(visa_df[i],\n",
        "              0.25),2)\n",
        "  cols_50p = round(np.quantile(visa_df[i],\n",
        "              0.50),2)\n",
        "  cols_75p = round(np.quantile(visa_df[i],\n",
        "              0.75),2)\n",
        "  l1.append([cols_count,cols_maxx,cols_minn,cols_meann,cols_mediann,cols_stdn,cols_25p,cols_50p,cols_75p])\n",
        "\n",
        "cols_name=['count','Max','Min','Mean',\"Median\",\"Std\",\"25 percentile\",\"50 Percentile\",\"75 percentile\"]\n",
        "cols_df=pd.DataFrame(l1,index=columns_reqd,columns=cols_name).T\n",
        "cols_df"
      ],
      "metadata": {
        "colab": {
          "base_uri": "https://localhost:8080/",
          "height": 351
        },
        "id": "2RlpOJWsXOtL",
        "outputId": "b0fbd288-c0d3-4ab5-82ff-3b033fb3e481"
      },
      "execution_count": 23,
      "outputs": [
        {
          "output_type": "execute_result",
          "data": {
            "text/plain": [
              "               no_of_employees  yr_of_estab  prevailing_wage\n",
              "count                 25480.00     25480.00         25480.00\n",
              "Max                  602069.00      2016.00        319210.27\n",
              "Min                     -26.00      1800.00             2.14\n",
              "Mean                   5667.04      1979.41         74455.81\n",
              "Median                 2109.00      1997.00         70308.21\n",
              "Std                   22877.93        42.37         52815.94\n",
              "25 percentile          1022.00      1976.00         34015.48\n",
              "50 Percentile          2109.00      1997.00         70308.21\n",
              "75 percentile          3504.00      2005.00        107735.51"
            ],
            "text/html": [
              "\n",
              "  <div id=\"df-6841eb53-c895-4b03-8b88-06e5e889946c\" class=\"colab-df-container\">\n",
              "    <div>\n",
              "<style scoped>\n",
              "    .dataframe tbody tr th:only-of-type {\n",
              "        vertical-align: middle;\n",
              "    }\n",
              "\n",
              "    .dataframe tbody tr th {\n",
              "        vertical-align: top;\n",
              "    }\n",
              "\n",
              "    .dataframe thead th {\n",
              "        text-align: right;\n",
              "    }\n",
              "</style>\n",
              "<table border=\"1\" class=\"dataframe\">\n",
              "  <thead>\n",
              "    <tr style=\"text-align: right;\">\n",
              "      <th></th>\n",
              "      <th>no_of_employees</th>\n",
              "      <th>yr_of_estab</th>\n",
              "      <th>prevailing_wage</th>\n",
              "    </tr>\n",
              "  </thead>\n",
              "  <tbody>\n",
              "    <tr>\n",
              "      <th>count</th>\n",
              "      <td>25480.00</td>\n",
              "      <td>25480.00</td>\n",
              "      <td>25480.00</td>\n",
              "    </tr>\n",
              "    <tr>\n",
              "      <th>Max</th>\n",
              "      <td>602069.00</td>\n",
              "      <td>2016.00</td>\n",
              "      <td>319210.27</td>\n",
              "    </tr>\n",
              "    <tr>\n",
              "      <th>Min</th>\n",
              "      <td>-26.00</td>\n",
              "      <td>1800.00</td>\n",
              "      <td>2.14</td>\n",
              "    </tr>\n",
              "    <tr>\n",
              "      <th>Mean</th>\n",
              "      <td>5667.04</td>\n",
              "      <td>1979.41</td>\n",
              "      <td>74455.81</td>\n",
              "    </tr>\n",
              "    <tr>\n",
              "      <th>Median</th>\n",
              "      <td>2109.00</td>\n",
              "      <td>1997.00</td>\n",
              "      <td>70308.21</td>\n",
              "    </tr>\n",
              "    <tr>\n",
              "      <th>Std</th>\n",
              "      <td>22877.93</td>\n",
              "      <td>42.37</td>\n",
              "      <td>52815.94</td>\n",
              "    </tr>\n",
              "    <tr>\n",
              "      <th>25 percentile</th>\n",
              "      <td>1022.00</td>\n",
              "      <td>1976.00</td>\n",
              "      <td>34015.48</td>\n",
              "    </tr>\n",
              "    <tr>\n",
              "      <th>50 Percentile</th>\n",
              "      <td>2109.00</td>\n",
              "      <td>1997.00</td>\n",
              "      <td>70308.21</td>\n",
              "    </tr>\n",
              "    <tr>\n",
              "      <th>75 percentile</th>\n",
              "      <td>3504.00</td>\n",
              "      <td>2005.00</td>\n",
              "      <td>107735.51</td>\n",
              "    </tr>\n",
              "  </tbody>\n",
              "</table>\n",
              "</div>\n",
              "    <div class=\"colab-df-buttons\">\n",
              "\n",
              "  <div class=\"colab-df-container\">\n",
              "    <button class=\"colab-df-convert\" onclick=\"convertToInteractive('df-6841eb53-c895-4b03-8b88-06e5e889946c')\"\n",
              "            title=\"Convert this dataframe to an interactive table.\"\n",
              "            style=\"display:none;\">\n",
              "\n",
              "  <svg xmlns=\"http://www.w3.org/2000/svg\" height=\"24px\" viewBox=\"0 -960 960 960\">\n",
              "    <path d=\"M120-120v-720h720v720H120Zm60-500h600v-160H180v160Zm220 220h160v-160H400v160Zm0 220h160v-160H400v160ZM180-400h160v-160H180v160Zm440 0h160v-160H620v160ZM180-180h160v-160H180v160Zm440 0h160v-160H620v160Z\"/>\n",
              "  </svg>\n",
              "    </button>\n",
              "\n",
              "  <style>\n",
              "    .colab-df-container {\n",
              "      display:flex;\n",
              "      gap: 12px;\n",
              "    }\n",
              "\n",
              "    .colab-df-convert {\n",
              "      background-color: #E8F0FE;\n",
              "      border: none;\n",
              "      border-radius: 50%;\n",
              "      cursor: pointer;\n",
              "      display: none;\n",
              "      fill: #1967D2;\n",
              "      height: 32px;\n",
              "      padding: 0 0 0 0;\n",
              "      width: 32px;\n",
              "    }\n",
              "\n",
              "    .colab-df-convert:hover {\n",
              "      background-color: #E2EBFA;\n",
              "      box-shadow: 0px 1px 2px rgba(60, 64, 67, 0.3), 0px 1px 3px 1px rgba(60, 64, 67, 0.15);\n",
              "      fill: #174EA6;\n",
              "    }\n",
              "\n",
              "    .colab-df-buttons div {\n",
              "      margin-bottom: 4px;\n",
              "    }\n",
              "\n",
              "    [theme=dark] .colab-df-convert {\n",
              "      background-color: #3B4455;\n",
              "      fill: #D2E3FC;\n",
              "    }\n",
              "\n",
              "    [theme=dark] .colab-df-convert:hover {\n",
              "      background-color: #434B5C;\n",
              "      box-shadow: 0px 1px 3px 1px rgba(0, 0, 0, 0.15);\n",
              "      filter: drop-shadow(0px 1px 2px rgba(0, 0, 0, 0.3));\n",
              "      fill: #FFFFFF;\n",
              "    }\n",
              "  </style>\n",
              "\n",
              "    <script>\n",
              "      const buttonEl =\n",
              "        document.querySelector('#df-6841eb53-c895-4b03-8b88-06e5e889946c button.colab-df-convert');\n",
              "      buttonEl.style.display =\n",
              "        google.colab.kernel.accessAllowed ? 'block' : 'none';\n",
              "\n",
              "      async function convertToInteractive(key) {\n",
              "        const element = document.querySelector('#df-6841eb53-c895-4b03-8b88-06e5e889946c');\n",
              "        const dataTable =\n",
              "          await google.colab.kernel.invokeFunction('convertToInteractive',\n",
              "                                                    [key], {});\n",
              "        if (!dataTable) return;\n",
              "\n",
              "        const docLinkHtml = 'Like what you see? Visit the ' +\n",
              "          '<a target=\"_blank\" href=https://colab.research.google.com/notebooks/data_table.ipynb>data table notebook</a>'\n",
              "          + ' to learn more about interactive tables.';\n",
              "        element.innerHTML = '';\n",
              "        dataTable['output_type'] = 'display_data';\n",
              "        await google.colab.output.renderOutput(dataTable, element);\n",
              "        const docLink = document.createElement('div');\n",
              "        docLink.innerHTML = docLinkHtml;\n",
              "        element.appendChild(docLink);\n",
              "      }\n",
              "    </script>\n",
              "  </div>\n",
              "\n",
              "\n",
              "<div id=\"df-47d6165b-f1ee-4ce1-b9f4-fe7c669e9fc9\">\n",
              "  <button class=\"colab-df-quickchart\" onclick=\"quickchart('df-47d6165b-f1ee-4ce1-b9f4-fe7c669e9fc9')\"\n",
              "            title=\"Suggest charts\"\n",
              "            style=\"display:none;\">\n",
              "\n",
              "<svg xmlns=\"http://www.w3.org/2000/svg\" height=\"24px\"viewBox=\"0 0 24 24\"\n",
              "     width=\"24px\">\n",
              "    <g>\n",
              "        <path d=\"M19 3H5c-1.1 0-2 .9-2 2v14c0 1.1.9 2 2 2h14c1.1 0 2-.9 2-2V5c0-1.1-.9-2-2-2zM9 17H7v-7h2v7zm4 0h-2V7h2v10zm4 0h-2v-4h2v4z\"/>\n",
              "    </g>\n",
              "</svg>\n",
              "  </button>\n",
              "\n",
              "<style>\n",
              "  .colab-df-quickchart {\n",
              "      --bg-color: #E8F0FE;\n",
              "      --fill-color: #1967D2;\n",
              "      --hover-bg-color: #E2EBFA;\n",
              "      --hover-fill-color: #174EA6;\n",
              "      --disabled-fill-color: #AAA;\n",
              "      --disabled-bg-color: #DDD;\n",
              "  }\n",
              "\n",
              "  [theme=dark] .colab-df-quickchart {\n",
              "      --bg-color: #3B4455;\n",
              "      --fill-color: #D2E3FC;\n",
              "      --hover-bg-color: #434B5C;\n",
              "      --hover-fill-color: #FFFFFF;\n",
              "      --disabled-bg-color: #3B4455;\n",
              "      --disabled-fill-color: #666;\n",
              "  }\n",
              "\n",
              "  .colab-df-quickchart {\n",
              "    background-color: var(--bg-color);\n",
              "    border: none;\n",
              "    border-radius: 50%;\n",
              "    cursor: pointer;\n",
              "    display: none;\n",
              "    fill: var(--fill-color);\n",
              "    height: 32px;\n",
              "    padding: 0;\n",
              "    width: 32px;\n",
              "  }\n",
              "\n",
              "  .colab-df-quickchart:hover {\n",
              "    background-color: var(--hover-bg-color);\n",
              "    box-shadow: 0 1px 2px rgba(60, 64, 67, 0.3), 0 1px 3px 1px rgba(60, 64, 67, 0.15);\n",
              "    fill: var(--button-hover-fill-color);\n",
              "  }\n",
              "\n",
              "  .colab-df-quickchart-complete:disabled,\n",
              "  .colab-df-quickchart-complete:disabled:hover {\n",
              "    background-color: var(--disabled-bg-color);\n",
              "    fill: var(--disabled-fill-color);\n",
              "    box-shadow: none;\n",
              "  }\n",
              "\n",
              "  .colab-df-spinner {\n",
              "    border: 2px solid var(--fill-color);\n",
              "    border-color: transparent;\n",
              "    border-bottom-color: var(--fill-color);\n",
              "    animation:\n",
              "      spin 1s steps(1) infinite;\n",
              "  }\n",
              "\n",
              "  @keyframes spin {\n",
              "    0% {\n",
              "      border-color: transparent;\n",
              "      border-bottom-color: var(--fill-color);\n",
              "      border-left-color: var(--fill-color);\n",
              "    }\n",
              "    20% {\n",
              "      border-color: transparent;\n",
              "      border-left-color: var(--fill-color);\n",
              "      border-top-color: var(--fill-color);\n",
              "    }\n",
              "    30% {\n",
              "      border-color: transparent;\n",
              "      border-left-color: var(--fill-color);\n",
              "      border-top-color: var(--fill-color);\n",
              "      border-right-color: var(--fill-color);\n",
              "    }\n",
              "    40% {\n",
              "      border-color: transparent;\n",
              "      border-right-color: var(--fill-color);\n",
              "      border-top-color: var(--fill-color);\n",
              "    }\n",
              "    60% {\n",
              "      border-color: transparent;\n",
              "      border-right-color: var(--fill-color);\n",
              "    }\n",
              "    80% {\n",
              "      border-color: transparent;\n",
              "      border-right-color: var(--fill-color);\n",
              "      border-bottom-color: var(--fill-color);\n",
              "    }\n",
              "    90% {\n",
              "      border-color: transparent;\n",
              "      border-bottom-color: var(--fill-color);\n",
              "    }\n",
              "  }\n",
              "</style>\n",
              "\n",
              "  <script>\n",
              "    async function quickchart(key) {\n",
              "      const quickchartButtonEl =\n",
              "        document.querySelector('#' + key + ' button');\n",
              "      quickchartButtonEl.disabled = true;  // To prevent multiple clicks.\n",
              "      quickchartButtonEl.classList.add('colab-df-spinner');\n",
              "      try {\n",
              "        const charts = await google.colab.kernel.invokeFunction(\n",
              "            'suggestCharts', [key], {});\n",
              "      } catch (error) {\n",
              "        console.error('Error during call to suggestCharts:', error);\n",
              "      }\n",
              "      quickchartButtonEl.classList.remove('colab-df-spinner');\n",
              "      quickchartButtonEl.classList.add('colab-df-quickchart-complete');\n",
              "    }\n",
              "    (() => {\n",
              "      let quickchartButtonEl =\n",
              "        document.querySelector('#df-47d6165b-f1ee-4ce1-b9f4-fe7c669e9fc9 button');\n",
              "      quickchartButtonEl.style.display =\n",
              "        google.colab.kernel.accessAllowed ? 'block' : 'none';\n",
              "    })();\n",
              "  </script>\n",
              "</div>\n",
              "\n",
              "  <div id=\"id_c4159315-a825-4ce6-bbb7-5a76acea5040\">\n",
              "    <style>\n",
              "      .colab-df-generate {\n",
              "        background-color: #E8F0FE;\n",
              "        border: none;\n",
              "        border-radius: 50%;\n",
              "        cursor: pointer;\n",
              "        display: none;\n",
              "        fill: #1967D2;\n",
              "        height: 32px;\n",
              "        padding: 0 0 0 0;\n",
              "        width: 32px;\n",
              "      }\n",
              "\n",
              "      .colab-df-generate:hover {\n",
              "        background-color: #E2EBFA;\n",
              "        box-shadow: 0px 1px 2px rgba(60, 64, 67, 0.3), 0px 1px 3px 1px rgba(60, 64, 67, 0.15);\n",
              "        fill: #174EA6;\n",
              "      }\n",
              "\n",
              "      [theme=dark] .colab-df-generate {\n",
              "        background-color: #3B4455;\n",
              "        fill: #D2E3FC;\n",
              "      }\n",
              "\n",
              "      [theme=dark] .colab-df-generate:hover {\n",
              "        background-color: #434B5C;\n",
              "        box-shadow: 0px 1px 3px 1px rgba(0, 0, 0, 0.15);\n",
              "        filter: drop-shadow(0px 1px 2px rgba(0, 0, 0, 0.3));\n",
              "        fill: #FFFFFF;\n",
              "      }\n",
              "    </style>\n",
              "    <button class=\"colab-df-generate\" onclick=\"generateWithVariable('cols_df')\"\n",
              "            title=\"Generate code using this dataframe.\"\n",
              "            style=\"display:none;\">\n",
              "\n",
              "  <svg xmlns=\"http://www.w3.org/2000/svg\" height=\"24px\"viewBox=\"0 0 24 24\"\n",
              "       width=\"24px\">\n",
              "    <path d=\"M7,19H8.4L18.45,9,17,7.55,7,17.6ZM5,21V16.75L18.45,3.32a2,2,0,0,1,2.83,0l1.4,1.43a1.91,1.91,0,0,1,.58,1.4,1.91,1.91,0,0,1-.58,1.4L9.25,21ZM18.45,9,17,7.55Zm-12,3A5.31,5.31,0,0,0,4.9,8.1,5.31,5.31,0,0,0,1,6.5,5.31,5.31,0,0,0,4.9,4.9,5.31,5.31,0,0,0,6.5,1,5.31,5.31,0,0,0,8.1,4.9,5.31,5.31,0,0,0,12,6.5,5.46,5.46,0,0,0,6.5,12Z\"/>\n",
              "  </svg>\n",
              "    </button>\n",
              "    <script>\n",
              "      (() => {\n",
              "      const buttonEl =\n",
              "        document.querySelector('#id_c4159315-a825-4ce6-bbb7-5a76acea5040 button.colab-df-generate');\n",
              "      buttonEl.style.display =\n",
              "        google.colab.kernel.accessAllowed ? 'block' : 'none';\n",
              "\n",
              "      buttonEl.onclick = () => {\n",
              "        google.colab.notebook.generateWithVariable('cols_df');\n",
              "      }\n",
              "      })();\n",
              "    </script>\n",
              "  </div>\n",
              "\n",
              "    </div>\n",
              "  </div>\n"
            ],
            "application/vnd.google.colaboratory.intrinsic+json": {
              "type": "dataframe",
              "variable_name": "cols_df",
              "summary": "{\n  \"name\": \"cols_df\",\n  \"rows\": 9,\n  \"fields\": [\n    {\n      \"column\": \"no_of_employees\",\n      \"properties\": {\n        \"dtype\": \"number\",\n        \"std\": 198307.12189005164,\n        \"min\": -26.0,\n        \"max\": 602069.0,\n        \"num_unique_values\": 8,\n        \"samples\": [\n          602069.0,\n          22877.93,\n          25480.0\n        ],\n        \"semantic_type\": \"\",\n        \"description\": \"\"\n      }\n    },\n    {\n      \"column\": \"yr_of_estab\",\n      \"properties\": {\n        \"dtype\": \"number\",\n        \"std\": 7943.615227335271,\n        \"min\": 42.37,\n        \"max\": 25480.0,\n        \"num_unique_values\": 8,\n        \"samples\": [\n          2016.0,\n          42.37,\n          25480.0\n        ],\n        \"semantic_type\": \"\",\n        \"description\": \"\"\n      }\n    },\n    {\n      \"column\": \"prevailing_wage\",\n      \"properties\": {\n        \"dtype\": \"number\",\n        \"std\": 93744.39100879828,\n        \"min\": 2.14,\n        \"max\": 319210.27,\n        \"num_unique_values\": 8,\n        \"samples\": [\n          319210.27,\n          52815.94,\n          25480.0\n        ],\n        \"semantic_type\": \"\",\n        \"description\": \"\"\n      }\n    }\n  ]\n}"
            }
          },
          "metadata": {},
          "execution_count": 23
        }
      ]
    },
    {
      "cell_type": "code",
      "source": [],
      "metadata": {
        "id": "RJuIFBsAeXvn"
      },
      "execution_count": null,
      "outputs": []
    }
  ]
}