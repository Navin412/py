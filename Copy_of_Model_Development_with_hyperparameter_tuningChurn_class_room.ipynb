{
  "cells": [
    {
      "cell_type": "markdown",
      "metadata": {
        "id": "view-in-github",
        "colab_type": "text"
      },
      "source": [
        "<a href=\"https://colab.research.google.com/github/Navin412/py/blob/master/Copy_of_Model_Development_with_hyperparameter_tuningChurn_class_room.ipynb\" target=\"_parent\"><img src=\"https://colab.research.google.com/assets/colab-badge.svg\" alt=\"Open In Colab\"/></a>"
      ]
    },
    {
      "cell_type": "code",
      "execution_count": 2,
      "id": "bb12e491-3cf4-49f0-8897-dd517ad9d7c3",
      "metadata": {
        "id": "bb12e491-3cf4-49f0-8897-dd517ad9d7c3"
      },
      "outputs": [],
      "source": [
        "import pandas as pd"
      ]
    },
    {
      "cell_type": "code",
      "execution_count": 3,
      "id": "da804202-f031-4623-afeb-ea6354cb2161",
      "metadata": {
        "id": "da804202-f031-4623-afeb-ea6354cb2161",
        "outputId": "3867916a-419e-4e66-cd68-03f4bb9a7d6b",
        "colab": {
          "base_uri": "https://localhost:8080/",
          "height": 226
        }
      },
      "outputs": [
        {
          "output_type": "execute_result",
          "data": {
            "text/plain": [
              "   gender       age  no_of_days_subscribed  multi_screen  mail_subscribed  \\\n",
              "0       0 -0.264643              -0.946659             0                0   \n",
              "1       0  0.029654               1.235009             0                0   \n",
              "2       0  2.580235               0.658246             0                0   \n",
              "3       0 -1.441834               0.783629             0                1   \n",
              "4       0  0.127754               2.288228             0                0   \n",
              "\n",
              "   weekly_mins_watched  minimum_daily_mins  weekly_max_night_mins  \\\n",
              "0            -1.508785            0.722258              -0.944404   \n",
              "1             0.304821           -0.901748              -0.688523   \n",
              "2            -2.266627            0.613991              -0.483818   \n",
              "3             0.638123           -0.252146               0.079121   \n",
              "4            -0.333851            0.253101              -0.893228   \n",
              "\n",
              "   videos_watched  customer_support_calls  churn  \n",
              "0       -1.403000               -0.415473      0  \n",
              "1       -0.599124                0.347522      0  \n",
              "2       -1.403000                2.636507      1  \n",
              "3       -0.197185                1.110517      0  \n",
              "4        1.008630               -0.415473      0  "
            ],
            "text/html": [
              "\n",
              "  <div id=\"df-de2cde62-f535-407b-ac82-10a4928c361f\" class=\"colab-df-container\">\n",
              "    <div>\n",
              "<style scoped>\n",
              "    .dataframe tbody tr th:only-of-type {\n",
              "        vertical-align: middle;\n",
              "    }\n",
              "\n",
              "    .dataframe tbody tr th {\n",
              "        vertical-align: top;\n",
              "    }\n",
              "\n",
              "    .dataframe thead th {\n",
              "        text-align: right;\n",
              "    }\n",
              "</style>\n",
              "<table border=\"1\" class=\"dataframe\">\n",
              "  <thead>\n",
              "    <tr style=\"text-align: right;\">\n",
              "      <th></th>\n",
              "      <th>gender</th>\n",
              "      <th>age</th>\n",
              "      <th>no_of_days_subscribed</th>\n",
              "      <th>multi_screen</th>\n",
              "      <th>mail_subscribed</th>\n",
              "      <th>weekly_mins_watched</th>\n",
              "      <th>minimum_daily_mins</th>\n",
              "      <th>weekly_max_night_mins</th>\n",
              "      <th>videos_watched</th>\n",
              "      <th>customer_support_calls</th>\n",
              "      <th>churn</th>\n",
              "    </tr>\n",
              "  </thead>\n",
              "  <tbody>\n",
              "    <tr>\n",
              "      <th>0</th>\n",
              "      <td>0</td>\n",
              "      <td>-0.264643</td>\n",
              "      <td>-0.946659</td>\n",
              "      <td>0</td>\n",
              "      <td>0</td>\n",
              "      <td>-1.508785</td>\n",
              "      <td>0.722258</td>\n",
              "      <td>-0.944404</td>\n",
              "      <td>-1.403000</td>\n",
              "      <td>-0.415473</td>\n",
              "      <td>0</td>\n",
              "    </tr>\n",
              "    <tr>\n",
              "      <th>1</th>\n",
              "      <td>0</td>\n",
              "      <td>0.029654</td>\n",
              "      <td>1.235009</td>\n",
              "      <td>0</td>\n",
              "      <td>0</td>\n",
              "      <td>0.304821</td>\n",
              "      <td>-0.901748</td>\n",
              "      <td>-0.688523</td>\n",
              "      <td>-0.599124</td>\n",
              "      <td>0.347522</td>\n",
              "      <td>0</td>\n",
              "    </tr>\n",
              "    <tr>\n",
              "      <th>2</th>\n",
              "      <td>0</td>\n",
              "      <td>2.580235</td>\n",
              "      <td>0.658246</td>\n",
              "      <td>0</td>\n",
              "      <td>0</td>\n",
              "      <td>-2.266627</td>\n",
              "      <td>0.613991</td>\n",
              "      <td>-0.483818</td>\n",
              "      <td>-1.403000</td>\n",
              "      <td>2.636507</td>\n",
              "      <td>1</td>\n",
              "    </tr>\n",
              "    <tr>\n",
              "      <th>3</th>\n",
              "      <td>0</td>\n",
              "      <td>-1.441834</td>\n",
              "      <td>0.783629</td>\n",
              "      <td>0</td>\n",
              "      <td>1</td>\n",
              "      <td>0.638123</td>\n",
              "      <td>-0.252146</td>\n",
              "      <td>0.079121</td>\n",
              "      <td>-0.197185</td>\n",
              "      <td>1.110517</td>\n",
              "      <td>0</td>\n",
              "    </tr>\n",
              "    <tr>\n",
              "      <th>4</th>\n",
              "      <td>0</td>\n",
              "      <td>0.127754</td>\n",
              "      <td>2.288228</td>\n",
              "      <td>0</td>\n",
              "      <td>0</td>\n",
              "      <td>-0.333851</td>\n",
              "      <td>0.253101</td>\n",
              "      <td>-0.893228</td>\n",
              "      <td>1.008630</td>\n",
              "      <td>-0.415473</td>\n",
              "      <td>0</td>\n",
              "    </tr>\n",
              "  </tbody>\n",
              "</table>\n",
              "</div>\n",
              "    <div class=\"colab-df-buttons\">\n",
              "\n",
              "  <div class=\"colab-df-container\">\n",
              "    <button class=\"colab-df-convert\" onclick=\"convertToInteractive('df-de2cde62-f535-407b-ac82-10a4928c361f')\"\n",
              "            title=\"Convert this dataframe to an interactive table.\"\n",
              "            style=\"display:none;\">\n",
              "\n",
              "  <svg xmlns=\"http://www.w3.org/2000/svg\" height=\"24px\" viewBox=\"0 -960 960 960\">\n",
              "    <path d=\"M120-120v-720h720v720H120Zm60-500h600v-160H180v160Zm220 220h160v-160H400v160Zm0 220h160v-160H400v160ZM180-400h160v-160H180v160Zm440 0h160v-160H620v160ZM180-180h160v-160H180v160Zm440 0h160v-160H620v160Z\"/>\n",
              "  </svg>\n",
              "    </button>\n",
              "\n",
              "  <style>\n",
              "    .colab-df-container {\n",
              "      display:flex;\n",
              "      gap: 12px;\n",
              "    }\n",
              "\n",
              "    .colab-df-convert {\n",
              "      background-color: #E8F0FE;\n",
              "      border: none;\n",
              "      border-radius: 50%;\n",
              "      cursor: pointer;\n",
              "      display: none;\n",
              "      fill: #1967D2;\n",
              "      height: 32px;\n",
              "      padding: 0 0 0 0;\n",
              "      width: 32px;\n",
              "    }\n",
              "\n",
              "    .colab-df-convert:hover {\n",
              "      background-color: #E2EBFA;\n",
              "      box-shadow: 0px 1px 2px rgba(60, 64, 67, 0.3), 0px 1px 3px 1px rgba(60, 64, 67, 0.15);\n",
              "      fill: #174EA6;\n",
              "    }\n",
              "\n",
              "    .colab-df-buttons div {\n",
              "      margin-bottom: 4px;\n",
              "    }\n",
              "\n",
              "    [theme=dark] .colab-df-convert {\n",
              "      background-color: #3B4455;\n",
              "      fill: #D2E3FC;\n",
              "    }\n",
              "\n",
              "    [theme=dark] .colab-df-convert:hover {\n",
              "      background-color: #434B5C;\n",
              "      box-shadow: 0px 1px 3px 1px rgba(0, 0, 0, 0.15);\n",
              "      filter: drop-shadow(0px 1px 2px rgba(0, 0, 0, 0.3));\n",
              "      fill: #FFFFFF;\n",
              "    }\n",
              "  </style>\n",
              "\n",
              "    <script>\n",
              "      const buttonEl =\n",
              "        document.querySelector('#df-de2cde62-f535-407b-ac82-10a4928c361f button.colab-df-convert');\n",
              "      buttonEl.style.display =\n",
              "        google.colab.kernel.accessAllowed ? 'block' : 'none';\n",
              "\n",
              "      async function convertToInteractive(key) {\n",
              "        const element = document.querySelector('#df-de2cde62-f535-407b-ac82-10a4928c361f');\n",
              "        const dataTable =\n",
              "          await google.colab.kernel.invokeFunction('convertToInteractive',\n",
              "                                                    [key], {});\n",
              "        if (!dataTable) return;\n",
              "\n",
              "        const docLinkHtml = 'Like what you see? Visit the ' +\n",
              "          '<a target=\"_blank\" href=https://colab.research.google.com/notebooks/data_table.ipynb>data table notebook</a>'\n",
              "          + ' to learn more about interactive tables.';\n",
              "        element.innerHTML = '';\n",
              "        dataTable['output_type'] = 'display_data';\n",
              "        await google.colab.output.renderOutput(dataTable, element);\n",
              "        const docLink = document.createElement('div');\n",
              "        docLink.innerHTML = docLinkHtml;\n",
              "        element.appendChild(docLink);\n",
              "      }\n",
              "    </script>\n",
              "  </div>\n",
              "\n",
              "\n",
              "<div id=\"df-35cc9b89-7029-499c-a6c7-1f667e113091\">\n",
              "  <button class=\"colab-df-quickchart\" onclick=\"quickchart('df-35cc9b89-7029-499c-a6c7-1f667e113091')\"\n",
              "            title=\"Suggest charts\"\n",
              "            style=\"display:none;\">\n",
              "\n",
              "<svg xmlns=\"http://www.w3.org/2000/svg\" height=\"24px\"viewBox=\"0 0 24 24\"\n",
              "     width=\"24px\">\n",
              "    <g>\n",
              "        <path d=\"M19 3H5c-1.1 0-2 .9-2 2v14c0 1.1.9 2 2 2h14c1.1 0 2-.9 2-2V5c0-1.1-.9-2-2-2zM9 17H7v-7h2v7zm4 0h-2V7h2v10zm4 0h-2v-4h2v4z\"/>\n",
              "    </g>\n",
              "</svg>\n",
              "  </button>\n",
              "\n",
              "<style>\n",
              "  .colab-df-quickchart {\n",
              "      --bg-color: #E8F0FE;\n",
              "      --fill-color: #1967D2;\n",
              "      --hover-bg-color: #E2EBFA;\n",
              "      --hover-fill-color: #174EA6;\n",
              "      --disabled-fill-color: #AAA;\n",
              "      --disabled-bg-color: #DDD;\n",
              "  }\n",
              "\n",
              "  [theme=dark] .colab-df-quickchart {\n",
              "      --bg-color: #3B4455;\n",
              "      --fill-color: #D2E3FC;\n",
              "      --hover-bg-color: #434B5C;\n",
              "      --hover-fill-color: #FFFFFF;\n",
              "      --disabled-bg-color: #3B4455;\n",
              "      --disabled-fill-color: #666;\n",
              "  }\n",
              "\n",
              "  .colab-df-quickchart {\n",
              "    background-color: var(--bg-color);\n",
              "    border: none;\n",
              "    border-radius: 50%;\n",
              "    cursor: pointer;\n",
              "    display: none;\n",
              "    fill: var(--fill-color);\n",
              "    height: 32px;\n",
              "    padding: 0;\n",
              "    width: 32px;\n",
              "  }\n",
              "\n",
              "  .colab-df-quickchart:hover {\n",
              "    background-color: var(--hover-bg-color);\n",
              "    box-shadow: 0 1px 2px rgba(60, 64, 67, 0.3), 0 1px 3px 1px rgba(60, 64, 67, 0.15);\n",
              "    fill: var(--button-hover-fill-color);\n",
              "  }\n",
              "\n",
              "  .colab-df-quickchart-complete:disabled,\n",
              "  .colab-df-quickchart-complete:disabled:hover {\n",
              "    background-color: var(--disabled-bg-color);\n",
              "    fill: var(--disabled-fill-color);\n",
              "    box-shadow: none;\n",
              "  }\n",
              "\n",
              "  .colab-df-spinner {\n",
              "    border: 2px solid var(--fill-color);\n",
              "    border-color: transparent;\n",
              "    border-bottom-color: var(--fill-color);\n",
              "    animation:\n",
              "      spin 1s steps(1) infinite;\n",
              "  }\n",
              "\n",
              "  @keyframes spin {\n",
              "    0% {\n",
              "      border-color: transparent;\n",
              "      border-bottom-color: var(--fill-color);\n",
              "      border-left-color: var(--fill-color);\n",
              "    }\n",
              "    20% {\n",
              "      border-color: transparent;\n",
              "      border-left-color: var(--fill-color);\n",
              "      border-top-color: var(--fill-color);\n",
              "    }\n",
              "    30% {\n",
              "      border-color: transparent;\n",
              "      border-left-color: var(--fill-color);\n",
              "      border-top-color: var(--fill-color);\n",
              "      border-right-color: var(--fill-color);\n",
              "    }\n",
              "    40% {\n",
              "      border-color: transparent;\n",
              "      border-right-color: var(--fill-color);\n",
              "      border-top-color: var(--fill-color);\n",
              "    }\n",
              "    60% {\n",
              "      border-color: transparent;\n",
              "      border-right-color: var(--fill-color);\n",
              "    }\n",
              "    80% {\n",
              "      border-color: transparent;\n",
              "      border-right-color: var(--fill-color);\n",
              "      border-bottom-color: var(--fill-color);\n",
              "    }\n",
              "    90% {\n",
              "      border-color: transparent;\n",
              "      border-bottom-color: var(--fill-color);\n",
              "    }\n",
              "  }\n",
              "</style>\n",
              "\n",
              "  <script>\n",
              "    async function quickchart(key) {\n",
              "      const quickchartButtonEl =\n",
              "        document.querySelector('#' + key + ' button');\n",
              "      quickchartButtonEl.disabled = true;  // To prevent multiple clicks.\n",
              "      quickchartButtonEl.classList.add('colab-df-spinner');\n",
              "      try {\n",
              "        const charts = await google.colab.kernel.invokeFunction(\n",
              "            'suggestCharts', [key], {});\n",
              "      } catch (error) {\n",
              "        console.error('Error during call to suggestCharts:', error);\n",
              "      }\n",
              "      quickchartButtonEl.classList.remove('colab-df-spinner');\n",
              "      quickchartButtonEl.classList.add('colab-df-quickchart-complete');\n",
              "    }\n",
              "    (() => {\n",
              "      let quickchartButtonEl =\n",
              "        document.querySelector('#df-35cc9b89-7029-499c-a6c7-1f667e113091 button');\n",
              "      quickchartButtonEl.style.display =\n",
              "        google.colab.kernel.accessAllowed ? 'block' : 'none';\n",
              "    })();\n",
              "  </script>\n",
              "</div>\n",
              "\n",
              "    </div>\n",
              "  </div>\n"
            ],
            "application/vnd.google.colaboratory.intrinsic+json": {
              "type": "dataframe",
              "variable_name": "data",
              "summary": "{\n  \"name\": \"data\",\n  \"rows\": 3406,\n  \"fields\": [\n    {\n      \"column\": \"gender\",\n      \"properties\": {\n        \"dtype\": \"number\",\n        \"std\": 0,\n        \"min\": 0,\n        \"max\": 1,\n        \"num_unique_values\": 2,\n        \"samples\": [\n          1,\n          0\n        ],\n        \"semantic_type\": \"\",\n        \"description\": \"\"\n      }\n    },\n    {\n      \"column\": \"age\",\n      \"properties\": {\n        \"dtype\": \"number\",\n        \"std\": 1.0084095970095726,\n        \"min\": -2.0304298905367264,\n        \"max\": 4.247922326863847,\n        \"num_unique_values\": 1446,\n        \"samples\": [\n          2.7058641753850514,\n          0.3113783748116741\n        ],\n        \"semantic_type\": \"\",\n        \"description\": \"\"\n      }\n    },\n    {\n      \"column\": \"no_of_days_subscribed\",\n      \"properties\": {\n        \"dtype\": \"number\",\n        \"std\": 0.9265476438755814,\n        \"min\": -2.4763349348622543,\n        \"max\": 3.5922138634837366,\n        \"num_unique_values\": 1636,\n        \"samples\": [\n          2.885511773074559,\n          -0.8989633649542697\n        ],\n        \"semantic_type\": \"\",\n        \"description\": \"\"\n      }\n    },\n    {\n      \"column\": \"multi_screen\",\n      \"properties\": {\n        \"dtype\": \"number\",\n        \"std\": 0,\n        \"min\": 0,\n        \"max\": 1,\n        \"num_unique_values\": 2,\n        \"samples\": [\n          1,\n          0\n        ],\n        \"semantic_type\": \"\",\n        \"description\": \"\"\n      }\n    },\n    {\n      \"column\": \"mail_subscribed\",\n      \"properties\": {\n        \"dtype\": \"number\",\n        \"std\": 0,\n        \"min\": 0,\n        \"max\": 1,\n        \"num_unique_values\": 2,\n        \"samples\": [\n          1,\n          0\n        ],\n        \"semantic_type\": \"\",\n        \"description\": \"\"\n      }\n    },\n    {\n      \"column\": \"weekly_mins_watched\",\n      \"properties\": {\n        \"dtype\": \"number\",\n        \"std\": 1.096522074996006,\n        \"min\": -3.3503216474178728,\n        \"max\": 3.1816407371782525,\n        \"num_unique_values\": 2684,\n        \"samples\": [\n          -0.2164867503704203,\n          -0.5651684351593754\n        ],\n        \"semantic_type\": \"\",\n        \"description\": \"\"\n      }\n    },\n    {\n      \"column\": \"minimum_daily_mins\",\n      \"properties\": {\n        \"dtype\": \"number\",\n        \"std\": 0.9561511138116169,\n        \"min\": -3.6806016720833497,\n        \"max\": 3.537200652864039,\n        \"num_unique_values\": 1571,\n        \"samples\": [\n          -0.1945419017534412,\n          -0.3178974137756593\n        ],\n        \"semantic_type\": \"\",\n        \"description\": \"\"\n      }\n    },\n    {\n      \"column\": \"weekly_max_night_mins\",\n      \"properties\": {\n        \"dtype\": \"number\",\n        \"std\": 0.9676846062387111,\n        \"min\": -2.991455314295528,\n        \"max\": 3.814989716389684,\n        \"num_unique_values\": 1516,\n        \"samples\": [\n          0.6932367323912032,\n          -1.1068054442118405\n        ],\n        \"semantic_type\": \"\",\n        \"description\": \"\"\n      }\n    },\n    {\n      \"column\": \"videos_watched\",\n      \"properties\": {\n        \"dtype\": \"number\",\n        \"std\": 0.9632176176062079,\n        \"min\": -1.804938941638904,\n        \"max\": 5.831891904472664,\n        \"num_unique_values\": 1128,\n        \"samples\": [\n          -0.3382673452751562,\n          -0.8299474255940626\n        ],\n        \"semantic_type\": \"\",\n        \"description\": \"\"\n      }\n    },\n    {\n      \"column\": \"customer_support_calls\",\n      \"properties\": {\n        \"dtype\": \"number\",\n        \"std\": 1.1786718932606408,\n        \"min\": -1.1784679459259704,\n        \"max\": 5.688486131075936,\n        \"num_unique_values\": 798,\n        \"samples\": [\n          2.4531651647199166,\n          -0.11649574991737\n        ],\n        \"semantic_type\": \"\",\n        \"description\": \"\"\n      }\n    },\n    {\n      \"column\": \"churn\",\n      \"properties\": {\n        \"dtype\": \"number\",\n        \"std\": 0,\n        \"min\": 0,\n        \"max\": 1,\n        \"num_unique_values\": 2,\n        \"samples\": [\n          1,\n          0\n        ],\n        \"semantic_type\": \"\",\n        \"description\": \"\"\n      }\n    }\n  ]\n}"
            }
          },
          "metadata": {},
          "execution_count": 3
        }
      ],
      "source": [
        "data=pd.read_csv('/content/drive/MyDrive/preprocessd_data.csv')\n",
        "data.head()"
      ]
    },
    {
      "cell_type": "code",
      "source": [
        "from google.colab import drive\n",
        "drive.mount('/content/drive')"
      ],
      "metadata": {
        "colab": {
          "base_uri": "https://localhost:8080/"
        },
        "id": "ZyqSuYQ7Jvfu",
        "outputId": "69cf1912-44ff-4651-fedb-be9f7d45d378"
      },
      "id": "ZyqSuYQ7Jvfu",
      "execution_count": 1,
      "outputs": [
        {
          "output_type": "stream",
          "name": "stdout",
          "text": [
            "Mounted at /content/drive\n"
          ]
        }
      ]
    },
    {
      "cell_type": "code",
      "execution_count": null,
      "id": "1a68e5a5-3809-4d8f-9553-b74baf8f4402",
      "metadata": {
        "id": "1a68e5a5-3809-4d8f-9553-b74baf8f4402"
      },
      "outputs": [],
      "source": [
        "# Step-1: Divide X and y\n",
        "# Step-2: Train test split\n",
        "# Divide data into X and y\n",
        "# target column name:Customer status\n",
        "# Here the target column is Customer Status\n",
        "X = data.drop('churn', axis=1)\n",
        "y = data['churn']"
      ]
    },
    {
      "cell_type": "code",
      "execution_count": null,
      "id": "b28bbe4d-5460-411a-b1c7-2aba29851d8b",
      "metadata": {
        "id": "b28bbe4d-5460-411a-b1c7-2aba29851d8b"
      },
      "outputs": [],
      "source": [
        "X.shape"
      ]
    },
    {
      "cell_type": "code",
      "execution_count": null,
      "id": "40659cd9-b057-4bb3-b4d4-9981edabde0b",
      "metadata": {
        "id": "40659cd9-b057-4bb3-b4d4-9981edabde0b"
      },
      "outputs": [],
      "source": [
        "y.shape"
      ]
    },
    {
      "cell_type": "code",
      "execution_count": null,
      "id": "c6f47bf4-c27f-4a34-b6c5-9e9cce541706",
      "metadata": {
        "id": "c6f47bf4-c27f-4a34-b6c5-9e9cce541706"
      },
      "outputs": [],
      "source": [
        "from sklearn.model_selection import train_test_split\n",
        "X_train, X_test, y_train, y_test = train_test_split(X,\n",
        "                                                    y,\n",
        "                                                    test_size=0.2,\n",
        "                                                    random_state=0)\n",
        "print(X_train.shape),\n",
        "print(X_test.shape),\n",
        "print(y_train.shape),\n",
        "print(y_test.shape)"
      ]
    },
    {
      "cell_type": "code",
      "execution_count": null,
      "id": "c350671e-410a-480d-bbc7-fa28c2f92afe",
      "metadata": {
        "id": "c350671e-410a-480d-bbc7-fa28c2f92afe"
      },
      "outputs": [],
      "source": [
        "#from sklearn.datasets\n",
        "from sklearn.preprocessing import StandardScaler\n",
        "from sklearn.preprocessing import MinMaxScaler\n",
        "from sklearn.model_selection import train_test_split\n",
        "from sklearn.preprocessing import PowerTransformer\n",
        "from sklearn.preprocessing import LabelEncoder\n",
        "from sklearn.linear_model import LinearRegression\n",
        "from sklearn.metrics import mean_absolute_error,mean_squared_error,r2_score"
      ]
    },
    {
      "cell_type": "code",
      "execution_count": null,
      "id": "1fcd812e-a45d-4712-bee9-7e19fed13dbf",
      "metadata": {
        "id": "1fcd812e-a45d-4712-bee9-7e19fed13dbf"
      },
      "outputs": [],
      "source": [
        "# Read the package\n",
        "# save the package\n",
        "# apply fit\n",
        "# First will do with out hyper parameter tuning\n",
        "# with hyper parameter tuning\n",
        "\n",
        "# Logistic regresion\n",
        "# Decision tree\n",
        "# Naive Byaes\n",
        "# KNN"
      ]
    },
    {
      "cell_type": "markdown",
      "id": "6f7e6a9c-8ec1-47fd-aee4-590800a857c2",
      "metadata": {
        "id": "6f7e6a9c-8ec1-47fd-aee4-590800a857c2"
      },
      "source": [
        "**Decision Tree**"
      ]
    },
    {
      "cell_type": "code",
      "execution_count": null,
      "id": "94bd7d96-7bc3-44fd-9f2c-f8df127ab8e4",
      "metadata": {
        "id": "94bd7d96-7bc3-44fd-9f2c-f8df127ab8e4"
      },
      "outputs": [],
      "source": [
        "# Import the package\n",
        "# save the model\n",
        "# fittarnsform\n",
        "from sklearn.tree import DecisionTreeClassifier\n",
        "DT=DecisionTreeClassifier()\n",
        "DT.fit(X_train,y_train)\n",
        "\n",
        "# The function is empty means\n",
        "# It will take the default parameter\n",
        "# With out hyperparameter tuning"
      ]
    },
    {
      "cell_type": "code",
      "execution_count": null,
      "id": "5f99bb11-e9b7-41d6-8179-9e35535f06de",
      "metadata": {
        "id": "5f99bb11-e9b7-41d6-8179-9e35535f06de"
      },
      "outputs": [],
      "source": [
        "y_predictions=DT.predict(X_test)\n",
        "y_predictions"
      ]
    },
    {
      "cell_type": "code",
      "execution_count": null,
      "id": "b9182086-4c59-470d-8b6b-352db9debe20",
      "metadata": {
        "id": "b9182086-4c59-470d-8b6b-352db9debe20"
      },
      "outputs": [],
      "source": [
        "print(y_test.values[:10])\n",
        "print(y_predictions[:10])"
      ]
    },
    {
      "cell_type": "code",
      "execution_count": null,
      "id": "cadf101b-b188-4a91-8d47-116e7c1060ba",
      "metadata": {
        "id": "cadf101b-b188-4a91-8d47-116e7c1060ba"
      },
      "outputs": [],
      "source": [
        "from sklearn.metrics import accuracy_score,precision_score,\\\n",
        "                           recall_score,confusion_matrix,\\\n",
        "                          ConfusionMatrixDisplay,f1_score,\\\n",
        "                          auc,roc_auc_score,classification_report"
      ]
    },
    {
      "cell_type": "code",
      "execution_count": null,
      "id": "703f322a-bd5b-4d65-828a-c3568512bd53",
      "metadata": {
        "id": "703f322a-bd5b-4d65-828a-c3568512bd53"
      },
      "outputs": [],
      "source": [
        "DT_acc=accuracy_score(y_test,y_predictions)\n",
        "DT_acc"
      ]
    },
    {
      "cell_type": "code",
      "execution_count": null,
      "id": "66cfec3a-26cc-4aa3-9b2f-035e52df9c12",
      "metadata": {
        "id": "66cfec3a-26cc-4aa3-9b2f-035e52df9c12"
      },
      "outputs": [],
      "source": [
        "precision_score(y_test,y_predictions)"
      ]
    },
    {
      "cell_type": "code",
      "execution_count": null,
      "id": "7a6c4d44-2514-419f-a416-016a3836a640",
      "metadata": {
        "id": "7a6c4d44-2514-419f-a416-016a3836a640"
      },
      "outputs": [],
      "source": [
        "recall_score(y_test,y_predictions)"
      ]
    },
    {
      "cell_type": "code",
      "execution_count": null,
      "id": "6fd4a5f1-1146-4aef-ab8c-5df475ad3c1e",
      "metadata": {
        "id": "6fd4a5f1-1146-4aef-ab8c-5df475ad3c1e"
      },
      "outputs": [],
      "source": [
        "f1_score(y_test,y_predictions)"
      ]
    },
    {
      "cell_type": "code",
      "execution_count": null,
      "id": "1027ace0-b902-49d9-ba31-d321d7a27a6f",
      "metadata": {
        "id": "1027ace0-b902-49d9-ba31-d321d7a27a6f"
      },
      "outputs": [],
      "source": [
        "confusion_matrix(y_test,y_predictions)"
      ]
    },
    {
      "cell_type": "code",
      "execution_count": null,
      "id": "3deb33df-3e05-46a7-b95c-2e43f94bb8bf",
      "metadata": {
        "id": "3deb33df-3e05-46a7-b95c-2e43f94bb8bf"
      },
      "outputs": [],
      "source": [
        "tn, fp, fn, tp=confusion_matrix(y_test,y_predictions).ravel()\n"
      ]
    },
    {
      "cell_type": "code",
      "execution_count": null,
      "id": "5659b91e-b2f9-4465-8f15-9561ce852d36",
      "metadata": {
        "id": "5659b91e-b2f9-4465-8f15-9561ce852d36"
      },
      "outputs": [],
      "source": [
        "pr=tp/(tp+fp)\n",
        "rc=tp/(tp+fn)\n",
        "f1=2*pr*rc/(pr+rc)\n",
        "print(\"True postives:\",tp)\n",
        "print(\"True Negatives:\",tp)\n",
        "print(\"False postives:\",fp)\n",
        "print(\"False Negatives:\",fn)\n",
        "print('Precision:',pr)\n",
        "print('recall:',rc)\n",
        "print('f1:',f1)"
      ]
    },
    {
      "cell_type": "code",
      "execution_count": null,
      "id": "bf6a7e54-7183-4f04-b507-2ce0ac95657d",
      "metadata": {
        "id": "bf6a7e54-7183-4f04-b507-2ce0ac95657d"
      },
      "outputs": [],
      "source": [
        "import matplotlib.pyplot as plt\n",
        "cmt=confusion_matrix(y_test,y_predictions)\n",
        "ConfusionMatrixDisplay(cmt).plot()\n",
        "plt.grid(False)"
      ]
    },
    {
      "cell_type": "markdown",
      "id": "679fb90d-716a-49e0-a2cd-f2b28eb4681d",
      "metadata": {
        "id": "679fb90d-716a-49e0-a2cd-f2b28eb4681d"
      },
      "source": [
        "- We read DT\n",
        "\n",
        "- Fit with data\n",
        "\n",
        "- Predictions\n",
        "\n",
        "- Acc\n",
        "\n",
        "- pre\n",
        "\n",
        "- rec\n",
        "\n",
        "- f1\n",
        "\n",
        "- CMT"
      ]
    },
    {
      "cell_type": "code",
      "execution_count": null,
      "id": "e402b37f-d8e7-4817-a65a-1087bd2bc3b2",
      "metadata": {
        "id": "e402b37f-d8e7-4817-a65a-1087bd2bc3b2"
      },
      "outputs": [],
      "source": [
        "from sklearn.tree import DecisionTreeClassifier\n",
        "dtree=DecisionTreeClassifier()\n",
        "dtree.fit(X_train, y_train)\n",
        "\n",
        "# =============================Step-5:  Predictions============================================================\n",
        "\n",
        "y_pred_dt=dtree.predict(X_test)\n",
        "\n",
        "# ============================ Step-6: Metrics==================================================================\n",
        "\n",
        "acc_dt= round(accuracy_score(y_test,y_pred_dt)*100,2)\n",
        "f1_dt=round(f1_score(y_test,y_pred_dt),2)\n",
        "precision_dt=round(precision_score(y_test,y_pred_dt),2)\n",
        "recall_dt=round(recall_score(y_test,y_pred_dt),2)\n",
        "\n",
        "print(\"accuray is:\",acc_dt)\n",
        "print(\"F1 is:\",f1_dt)\n",
        "print(\"Precision is:\",precision_dt)\n",
        "print(\"Recall is:\",recall_dt)\n",
        "print(classification_report(y_test,y_pred_dt))\n",
        "\n",
        "# ================================Step-7:Confusion matrix=========================================================================\n",
        "\n",
        "cmt=confusion_matrix(y_test,y_pred_dt)\n",
        "\n",
        "disp=ConfusionMatrixDisplay(confusion_matrix=cmt,\n",
        "                            display_labels = [False, True])\n",
        "disp.plot()\n",
        "plt.grid(False)\n",
        "plt.show()\n",
        "\n",
        "\n",
        "tn, fp, fn, tp = confusion_matrix(y_test,y_pred_dt).ravel()\n",
        "print(\"True negative:\",tn)\n",
        "print(\"False postive:\",fp)\n",
        "print(\"False negative:\",fn)\n",
        "print(\"True postive:\",tp)\n"
      ]
    },
    {
      "cell_type": "markdown",
      "id": "d7d50a21-4320-43ed-a875-5e4498e7a5bd",
      "metadata": {
        "id": "d7d50a21-4320-43ed-a875-5e4498e7a5bd"
      },
      "source": [
        "**Perform The same above operations on below models**\n",
        "\n",
        "- Load the Model package\n",
        "\n",
        "- Save the model\n",
        "\n",
        "- fit the model with train data\n",
        "\n",
        "- perform the predictions on X_test\n",
        "\n",
        "- Evaluate the following model performance metrics\n",
        "\n",
        "    - accuracy score\n",
        "\n",
        "    - precision\n",
        "\n",
        "    - recall\n",
        "\n",
        "    - f1 score\n",
        "\n",
        "    - Confusion matrix\n",
        "\n",
        "    - plot the Confusion matrix\n",
        "\n",
        "    - verify the precision, recall and f1score with formulae\n",
        "\n",
        "- The above repeat for all 4 models\n",
        "\n",
        "- Decision tree\n",
        "\n",
        "- KNN\n",
        "\n",
        "- Naive bayes\n",
        "\n",
        "- Logistic\n",
        "\n",
        "- Same task we are repeated for 4 models\n",
        "\n",
        "- so variable declartion is very important\n",
        "\n",
        "- For example we are calculating accuracy score\n",
        "\n",
        "- so intialise like below\n",
        "\n",
        "    - DT_acc_score\n",
        "\n",
        "    - KNN_acc_score\n",
        "\n",
        "    - Log_acc_score\n",
        "\n",
        "    - NB_acc_score\n",
        "\n",
        "- similarly all metrics"
      ]
    },
    {
      "cell_type": "code",
      "execution_count": null,
      "id": "1b9450c5-0eed-4a97-9d5f-635b7bde250e",
      "metadata": {
        "id": "1b9450c5-0eed-4a97-9d5f-635b7bde250e"
      },
      "outputs": [],
      "source": [
        "# KNN\n",
        "# NB\n",
        "# Logistic"
      ]
    },
    {
      "cell_type": "code",
      "execution_count": null,
      "id": "b269382c-93fd-4eab-b6bb-b140ef0bcdb5",
      "metadata": {
        "id": "b269382c-93fd-4eab-b6bb-b140ef0bcdb5"
      },
      "outputs": [],
      "source": [
        "from sklearn.tree import DecisionTreeClassifier\n",
        "from sklearn.neighbors import KNeighborsClassifier\n",
        "from sklearn.naive_bayes import GaussianNB\n",
        "from sklearn.linear_model import LogisticRegression"
      ]
    },
    {
      "cell_type": "code",
      "execution_count": null,
      "id": "1c0fadd5-1427-4805-9aca-e915e6130fc8",
      "metadata": {
        "id": "1c0fadd5-1427-4805-9aca-e915e6130fc8"
      },
      "outputs": [],
      "source": [
        "# KNN Classifier\n",
        "from sklearn.neighbors import KNeighborsClassifier\n",
        "knn_clsf=KNeighborsClassifier()\n",
        "knn_clsf.fit(X_train, y_train)\n",
        "\n",
        "# =============================Step-5:  Predictions============================================================\n",
        "\n",
        "y_pred_knn_clsf=knn_clsf.predict(X_test)\n",
        "\n",
        "# ============================ Step-6: Metrics==================================================================\n",
        "\n",
        "acc_knn= round(accuracy_score(y_test,y_pred_knn_clsf)*100,2)\n",
        "f1_knn=round(f1_score(y_test,y_pred_knn_clsf),2)\n",
        "precision_knn=round(precision_score(y_test,y_pred_knn_clsf),2)\n",
        "recall_knn=round(recall_score(y_test,y_pred_knn_clsf),2)\n",
        "\n",
        "print(\"accuray is:\",acc_knn)\n",
        "print(\"F1 is:\",f1_knn)\n",
        "print(\"Precision is:\",precision_knn)\n",
        "print(\"Recall is:\",recall_knn)\n",
        "print(classification_report(y_test,y_pred_knn_clsf))\n",
        "\n",
        "# ================================Step-7:Confusion matrix=========================================================================\n",
        "\n",
        "cmt_knn=confusion_matrix(y_test,y_pred_knn_clsf)\n",
        "\n",
        "disp=ConfusionMatrixDisplay(confusion_matrix=cmt_knn,\n",
        "                            display_labels = [False, True])\n",
        "disp.plot()\n",
        "plt.grid(False)\n",
        "plt.show()\n",
        "\n",
        "\n",
        "tn, fp, fn, tp = confusion_matrix(y_test,y_pred_knn_clsf).ravel()\n",
        "print(\"True negative:\",tn)\n",
        "print(\"False postive:\",fp)\n",
        "print(\"False negative:\",fn)\n",
        "print(\"True postive:\",tp)\n"
      ]
    },
    {
      "cell_type": "code",
      "source": [
        "# Naive Bayes Classifier\n",
        "from sklearn.naive_bayes import GaussianNB\n",
        "nb_clsf=GaussianNB()\n",
        "nb_clsf.fit(X_train, y_train)\n",
        "\n",
        "# =============================Step-5:  Predictions============================================================\n",
        "\n",
        "y_pred_nb_clsf=nb_clsf.predict(X_test)\n",
        "\n",
        "# ============================ Step-6: Metrics==================================================================\n",
        "\n",
        "acc_nb= round(accuracy_score(y_test,y_pred_nb_clsf)*100,2)\n",
        "f1_nb=round(f1_score(y_test,y_pred_nb_clsf),2)\n",
        "precision_nb=round(precision_score(y_test,y_pred_nb_clsf),2)\n",
        "recall_nb=round(recall_score(y_test,y_pred_nb_clsf),2)\n",
        "\n",
        "print(\"accuray is:\",acc_nb)\n",
        "print(\"F1 is:\",f1_nb)\n",
        "print(\"Precision is:\",precision_nb)\n",
        "print(\"Recall is:\",recall_nb)\n",
        "print(classification_report(y_test,y_pred_nb_clsf))\n",
        "\n",
        "# ================================Step-7:Confusion matrix=========================================================================\n",
        "\n",
        "cmt_nb=confusion_matrix(y_test,y_pred_nb_clsf)\n",
        "\n",
        "disp=ConfusionMatrixDisplay(confusion_matrix=cmt_nb,\n",
        "                            display_labels = [False, True])\n",
        "disp.plot()\n",
        "plt.grid(False)\n",
        "plt.show()\n",
        "\n",
        "\n",
        "tn, fp, fn, tp = confusion_matrix(y_test,y_pred_nb_clsf).ravel()\n",
        "print(\"True negative:\",tn)\n",
        "print(\"False postive:\",fp)\n",
        "print(\"False negative:\",fn)\n",
        "print(\"True postive:\",tp)"
      ],
      "metadata": {
        "id": "QYnS8Uaxf9Il"
      },
      "id": "QYnS8Uaxf9Il",
      "execution_count": null,
      "outputs": []
    },
    {
      "cell_type": "code",
      "source": [
        "# Logistic Regression\n",
        "from sklearn.linear_model import LogisticRegression\n",
        "lr_clsf=LogisticRegression()\n",
        "lr_clsf.fit(X_train, y_train)\n",
        "\n",
        "# =============================Step-5:  Predictions============================================================\n",
        "\n",
        "y_pred_lr_clsf=lr_clsf.predict(X_test)\n",
        "\n",
        "# ============================ Step-6: Metrics==================================================================\n",
        "\n",
        "acc_lr= round(accuracy_score(y_test,y_pred_lr_clsf)*100,2)\n",
        "f1_lr=round(f1_score(y_test,y_pred_lr_clsf),2)\n",
        "precision_lr=round(precision_score(y_test,y_pred_lr_clsf),2)\n",
        "recall_lr=round(recall_score(y_test,y_pred_lr_clsf),2)\n",
        "\n",
        "print(\"accuray is:\",acc_lr)\n",
        "print(\"F1 is:\",f1_lr)\n",
        "print(\"Precision is:\",precision_lr)\n",
        "print(\"Recall is:\",recall_lr)\n",
        "print(classification_report(y_test,y_pred_lr_clsf))\n",
        "\n",
        "# ================================Step-7:Confusion matrix=========================================================================\n",
        "\n",
        "cmt_lr=confusion_matrix(y_test,y_pred_lr_clsf)\n",
        "\n",
        "disp=ConfusionMatrixDisplay(confusion_matrix=cmt_lr,\n",
        "                            display_labels = [False, True])\n",
        "disp.plot()\n",
        "plt.grid(False)\n",
        "plt.show()\n",
        "\n",
        "\n",
        "tn, fp, fn, tp = confusion_matrix(y_test,y_pred_lr_clsf).ravel()\n",
        "print(\"True negative:\",tn)\n",
        "print(\"False postive:\",fp)\n",
        "print(\"False negative:\",fn)\n",
        "print(\"True postive:\",tp)"
      ],
      "metadata": {
        "id": "iRq5TUHXiEV4"
      },
      "id": "iRq5TUHXiEV4",
      "execution_count": null,
      "outputs": []
    },
    {
      "cell_type": "code",
      "source": [
        "\n",
        "# Define the data\n",
        "data = {\n",
        "    'Accuaracy': [acc_dt, acc_knn, acc_nb, acc_lr],\n",
        "    'Precision': [precision_dt, precision_knn, precision_nb, precision_lr],\n",
        "    'Recall': [recall_dt, recall_knn, recall_nb, recall_lr],\n",
        "    'F1_Score': [f1_dt, f1_knn, f1_nb, f1_lr]\n",
        "}\n",
        "\n",
        "# Define the index as model names\n",
        "index = ['DT', 'KNN', 'Naive Bayes', 'Logistic']\n",
        "\n",
        "# Create the DataFrame\n",
        "df = pd.DataFrame(data, index=index)\n",
        "\n",
        "# Display the DataFrame\n",
        "print(df)"
      ],
      "metadata": {
        "id": "3XSwLs4-kFme"
      },
      "id": "3XSwLs4-kFme",
      "execution_count": null,
      "outputs": []
    },
    {
      "cell_type": "markdown",
      "source": [
        "# Perform the ML Decision tree ,Logistic regression ,KNN and Random forest with hyper parameter tuning"
      ],
      "metadata": {
        "id": "V9riqxCwnj0O"
      },
      "id": "V9riqxCwnj0O"
    },
    {
      "cell_type": "markdown",
      "source": [
        "16.1 Random Forest"
      ],
      "metadata": {
        "id": "c2FPS_cIpWws"
      },
      "id": "c2FPS_cIpWws"
    },
    {
      "cell_type": "code",
      "source": [
        "from sklearn.model_selection import GridSearchCV\n",
        "from sklearn.ensemble import RandomForestClassifier\n",
        "rfc = RandomForestClassifier(class_weight='balanced')\n",
        "param_grid = {\n",
        "    'n_estimators': [100, 200],\n",
        "    'max_depth': [None, 5, 10],\n",
        "    'max_features': ['sqrt', 'log2', None],\n",
        "    'random_state': [0, 42],\n",
        "    'criterion':[\"gini\", \"entropy\"]\n",
        "}\n",
        "\n",
        "# Perform a grid search with cross-validation to find the best hyperparameters\n",
        "grid_search = GridSearchCV(rfc, param_grid, cv=5)\n",
        "grid_search.fit(X_train, y_train)\n",
        "\n",
        "# Print the best hyperparameters\n",
        "print(grid_search.best_params_)\n",
        "print(\"Best cross-validation score:\", grid_search.best_score_)"
      ],
      "metadata": {
        "id": "RbQwMhU9pYDF"
      },
      "id": "RbQwMhU9pYDF",
      "execution_count": null,
      "outputs": []
    },
    {
      "cell_type": "markdown",
      "source": [
        "# Decision Tree"
      ],
      "metadata": {
        "id": "P7r5z-9RseKu"
      },
      "id": "P7r5z-9RseKu"
    },
    {
      "cell_type": "code",
      "source": [
        "# Decision Tree\n",
        "dtree = DecisionTreeClassifier(class_weight='balanced')\n",
        "\n",
        "param_grid = {\n",
        "    'max_depth': [3,  5,  7, 9, 11],\n",
        "    'min_samples_split': [2, 3, 4],\n",
        "    'min_samples_leaf': [1, 2, 3, 4],\n",
        "    'random_state': [0, 42],\n",
        "    'criterion':[\"gini\", \"entropy\"]\n",
        "}\n",
        "\n",
        "# Perform a grid search with cross-validation to find the best hyperparameters\n",
        "grid_search = GridSearchCV(dtree, param_grid, cv=5,scoring='accuracy')\n",
        "grid_search.fit(X_train, y_train)\n",
        "\n",
        "# Print the best hyperparameters\n",
        "print(\"Best hyperparameters:\", grid_search.best_params_)\n",
        "print(\"Best cross-validation score:\", grid_search.best_score_)"
      ],
      "metadata": {
        "id": "z1yzN2cKrwbF"
      },
      "id": "z1yzN2cKrwbF",
      "execution_count": null,
      "outputs": []
    },
    {
      "cell_type": "code",
      "source": [
        "# Logistic Regression\n",
        "# Define the logistic regression model\n",
        "logistic_regression = LogisticRegression()\n",
        "\n",
        "# Define the hyperparameters to search through\n",
        "param_grid = {\n",
        "    'C': [0.001, 0.01, 0.1, 1, 10, 100],  # Inverse of regularization strength\n",
        "    'penalty': ['l1', 'l2'],               # Regularization penalty\n",
        "}\n",
        "\n",
        "# Define the GridSearchCV object\n",
        "grid_search = GridSearchCV(logistic_regression, param_grid, cv=5, scoring='accuracy')\n",
        "\n",
        "# Fit the GridSearchCV object to the data\n",
        "grid_search.fit(X_train, y_train)\n",
        "\n",
        "# Print the best hyperparameters found\n",
        "print(\"Best hyperparameters:\", grid_search.best_params_)\n",
        "\n",
        "# Print the best cross-validation score found\n",
        "print(\"Best cross-validation score:\", grid_search.best_score_)"
      ],
      "metadata": {
        "id": "J_RRyWHnr0M3"
      },
      "id": "J_RRyWHnr0M3",
      "execution_count": null,
      "outputs": []
    },
    {
      "cell_type": "code",
      "source": [
        "# KNN\n",
        "knn = KNeighborsClassifier()\n",
        "\n",
        "# Define the hyperparameters to search through\n",
        "param_grid = {\n",
        "    'n_neighbors': [3, 5, 7, 9],  # Number of neighbors to consider\n",
        "    'weights': ['uniform', 'distance'],  # Weight function used in prediction\n",
        "    'metric': ['euclidean', 'manhattan']  # Distance metric\n",
        "}\n",
        "\n",
        "# Define the GridSearchCV object\n",
        "grid_search = GridSearchCV(knn, param_grid, cv=5, scoring='accuracy')\n",
        "\n",
        "# Fit the GridSearchCV object to the data\n",
        "grid_search.fit(X_train, y_train)\n",
        "\n",
        "# Print the best hyperparameters found\n",
        "print(\"Best hyperparameters:\", grid_search.best_params_)\n",
        "\n",
        "# Print the best cross-validation score found\n",
        "print(\"Best cross-validation score:\", grid_search.best_score_)"
      ],
      "metadata": {
        "id": "uc8Nt93asHig"
      },
      "id": "uc8Nt93asHig",
      "execution_count": null,
      "outputs": []
    },
    {
      "cell_type": "markdown",
      "source": [
        "# Final - Model - With Hyper Parameter - Random Forest"
      ],
      "metadata": {
        "id": "doj3_S3-tCm_"
      },
      "id": "doj3_S3-tCm_"
    },
    {
      "cell_type": "code",
      "source": [
        "rf_clf= RandomForestClassifier(criterion='entropy', max_depth=None, max_features='sqrt' ,n_estimators=200, random_state=0)\n",
        "rf_clf.fit(X_train, y_train)\n",
        "print(\"Model- Random Forest Tree\")\n",
        "\n",
        "accuracy=rf_clf.score(X_train, y_train)\n",
        "print(f\"train score: {accuracy}\")\n",
        "\n",
        "accuracy=rf_clf.score(X_test, y_test)\n",
        "print(f\"test score: {accuracy}\")\n",
        "y_pred = rf_clf.predict(X_test)\n",
        "cmt = confusion_matrix(y_test, y_pred)\n",
        "disp = ConfusionMatrixDisplay(confusion_matrix=cmt, display_labels=[False, True])\n",
        "disp.plot()\n",
        "plt.grid(False)\n",
        "plt.show()\n",
        "\n",
        "acc = round(accuracy_score(y_test, y_pred) * 100, 2)\n",
        "f1 = round(f1_score(y_test, y_pred), 2)\n",
        "precision = round(precision_score(y_test, y_pred), 2)\n",
        "recall = round(recall_score(y_test, y_pred), 2)\n",
        "\n",
        "print(\"Accuracy:\", acc)\n",
        "print(\"Precision:\", precision)\n",
        "print(\"Recall:\", recall)\n",
        "print(\"F1 Score:\", f1)"
      ],
      "metadata": {
        "id": "pNK-OaAPtFFv"
      },
      "id": "pNK-OaAPtFFv",
      "execution_count": null,
      "outputs": []
    },
    {
      "cell_type": "markdown",
      "source": [
        "# Save the Model using joblib"
      ],
      "metadata": {
        "id": "aE-5p62_vyvp"
      },
      "id": "aE-5p62_vyvp"
    },
    {
      "cell_type": "code",
      "source": [
        "import joblib\n",
        "joblib.dump(rf_clf, 'telecom_churn_rf_model.joblib')"
      ],
      "metadata": {
        "id": "zM52W3jQv0pZ"
      },
      "id": "zM52W3jQv0pZ",
      "execution_count": null,
      "outputs": []
    },
    {
      "cell_type": "markdown",
      "source": [
        "#  Final Model - With Hyper Parameter - Decision Tree for assignment and flask deployment"
      ],
      "metadata": {
        "id": "mS4D7f2pIeA_"
      },
      "id": "mS4D7f2pIeA_"
    },
    {
      "cell_type": "code",
      "source": [
        "# Decision Tree\n",
        "dt_clf= DecisionTreeClassifier(criterion='entropy', max_depth=9, min_samples_leaf=1 ,min_samples_split=2, random_state=0)\n",
        "dt_clf.fit(X_train, y_train)\n",
        "print(\"Model- Decision Tree\")\n",
        "\n",
        "accuracy=dt_clf.score(X_train, y_train)\n",
        "print(f\"train score: {accuracy}\")\n",
        "\n",
        "accuracy=dt_clf.score(X_test, y_test)\n",
        "print(f\"test score: {accuracy}\")\n",
        "y_pred = dt_clf.predict(X_test)\n",
        "cmt = confusion_matrix(y_test, y_pred)\n",
        "disp = ConfusionMatrixDisplay(confusion_matrix=cmt, display_labels=[False, True])\n",
        "disp.plot()\n",
        "plt.grid(False)\n",
        "plt.show()\n",
        "\n",
        "acc = round(accuracy_score(y_test, y_pred) * 100, 2)\n",
        "f1 = round(f1_score(y_test, y_pred), 2)\n",
        "precision = round(precision_score(y_test, y_pred), 2)\n",
        "recall = round(recall_score(y_test, y_pred), 2)\n",
        "\n",
        "print(\"Accuracy:\", acc)\n",
        "print(\"Precision:\", precision)\n",
        "print(\"Recall:\", recall)\n",
        "print(\"F1 Score:\", f1)"
      ],
      "metadata": {
        "id": "aPhRMRN_In0Q"
      },
      "id": "aPhRMRN_In0Q",
      "execution_count": null,
      "outputs": []
    }
  ],
  "metadata": {
    "kernelspec": {
      "display_name": "Python 3 (ipykernel)",
      "language": "python",
      "name": "python3"
    },
    "language_info": {
      "codemirror_mode": {
        "name": "ipython",
        "version": 3
      },
      "file_extension": ".py",
      "mimetype": "text/x-python",
      "name": "python",
      "nbconvert_exporter": "python",
      "pygments_lexer": "ipython3",
      "version": "3.11.7"
    },
    "colab": {
      "provenance": [],
      "include_colab_link": true
    }
  },
  "nbformat": 4,
  "nbformat_minor": 5
}